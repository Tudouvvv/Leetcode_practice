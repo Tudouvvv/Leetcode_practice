{
 "cells": [
  {
   "cell_type": "code",
   "execution_count": 31,
   "metadata": {},
   "outputs": [],
   "source": [
    "# Definition for singly-linked list.\n",
    "# class ListNode:\n",
    "#     def __init__(self, x):\n",
    "#         self.val = x\n",
    "#         self.next = None\n",
    "\n",
    "def addTwoNumbers(l1, l2):\n",
    "    dummy = cur = ListNode(0)\n",
    "    carry = 0\n",
    "    while l1 or l2 or carry:\n",
    "        if l1:\n",
    "            carry += l1.val\n",
    "            l1 = l1.next\n",
    "        if l2:\n",
    "            carry += l2.val\n",
    "            l2 = l2.next\n",
    "        cur.next = ListNode(carry%10)\n",
    "        cur = cur.next\n",
    "        carry //= 10\n",
    "    return dummy.next"
   ]
  },
  {
   "cell_type": "code",
   "execution_count": 32,
   "metadata": {},
   "outputs": [
    {
     "data": {
      "text/plain": [
       "0"
      ]
     },
     "execution_count": 32,
     "metadata": {},
     "output_type": "execute_result"
    }
   ],
   "source": [
    "l1_1 = ListNode(3)\n",
    "l1_2 = ListNode(4)\n",
    "l2_1 = ListNode(7)\n",
    "l2_2 = ListNode(1)\n",
    "ans = addTwoNumbers(l1_1, l2_1)\n",
    "ans.val"
   ]
  },
  {
   "cell_type": "code",
   "execution_count": 13,
   "metadata": {},
   "outputs": [
    {
     "name": "stdout",
     "output_type": "stream",
     "text": [
      "Create a linklist\n",
      "1\n",
      "2\n",
      "3\n",
      "4\n",
      "5\n",
      "6\n",
      "7\n",
      "___________________________\n",
      "Enter the index to insert5\n",
      "Enter a value:8\n",
      "1\n",
      "2\n",
      "3\n",
      "4\n",
      "8\n",
      "5\n",
      "6\n",
      "7\n",
      "___________________________\n",
      "Enter the index to delete6\n",
      "1\n",
      "2\n",
      "3\n",
      "4\n",
      "8\n",
      "6\n",
      "7\n"
     ]
    }
   ],
   "source": [
    "class ListNode():     # 初始化 构造函数  \n",
    "    def __init__(self,value):  \n",
    "        self.value=value  \n",
    "        self.next=None\n",
    "  \n",
    "def Creatlist(n):  \n",
    "    if n<=0:  \n",
    "        return False  \n",
    "    if n==1:  \n",
    "        return ListNode(1)    # 只有一个节点  \n",
    "    else:  \n",
    "        root=ListNode(1)  \n",
    "        tmp=root  \n",
    "        for i in range(2,n+1):       #  一个一个的增加节点  \n",
    "            tmp.next=ListNode(i)  \n",
    "            tmp=tmp.next  \n",
    "    return root            # 返回根节点  \n",
    "  \n",
    "def printlist(head):       # 打印链表 （遍历） \n",
    "    p=head  \n",
    "    while p!=None:  \n",
    "        print (p.value)  \n",
    "        p=p.next  \n",
    "  \n",
    "def listlen(head):       # 链表长度  \n",
    "    c=0  \n",
    "    p=head  \n",
    "    while p!=None:  \n",
    "        c=c+1  \n",
    "        p=p.next  \n",
    "    return c  \n",
    "  \n",
    "def insert(head,n):         # 在n的前面插入元素  \n",
    "    if n<1 or n>listlen(head):  \n",
    "        return  \n",
    "  \n",
    "    p=head  \n",
    "    for i in range(1,n-1):  # 循环四次到达 5  （只能一个一个节点的移动 range不包含n-1）\n",
    "        p=p.next  \n",
    "    a=input(\"Enter a value:\")  \n",
    "    t=ListNode(value=a) \n",
    "    t.next=p.next   \n",
    "    p.next=t   \n",
    "    return head       \n",
    "  \n",
    "def dellist(head,n):  # 删除链表  \n",
    "    if n<1 or n>listlen(head):  \n",
    "        return head  \n",
    "    elif n is 1:  \n",
    "        head=head.next   # 删除头  \n",
    "    else:  \n",
    "        p=head  \n",
    "        for i in range(1,n-1):    \n",
    "            p=p.next     # 循环到达 2次   \n",
    "        q=p.next  \n",
    "        p.next=q.next    # 把5放在3的后面  \n",
    "    return head  \n",
    "  \n",
    "  \n",
    "def main():  \n",
    "    print (\"Create a linklist\") \n",
    "    head=Creatlist(7)  \n",
    "    printlist(head)  \n",
    "    print  \n",
    "    print (\"___________________________\")  \n",
    "  \n",
    "    n1=input(\"Enter the index to insert\")  \n",
    "    n1=int(n1)  \n",
    "    insert(head,n1)  \n",
    "    printlist(head)  \n",
    "    print  \n",
    "    print (\"___________________________\")\n",
    "  \n",
    "    n2=input(\"Enter the index to delete\")  \n",
    "    n2=int(n2)  \n",
    "    dellist(head,n2)  \n",
    "    printlist(head)  \n",
    "  \n",
    "  \n",
    "if __name__=='__main__':  main()   # 主函数调用 "
   ]
  },
  {
   "cell_type": "code",
   "execution_count": 15,
   "metadata": {},
   "outputs": [],
   "source": []
  },
  {
   "cell_type": "code",
   "execution_count": null,
   "metadata": {},
   "outputs": [],
   "source": []
  },
  {
   "cell_type": "code",
   "execution_count": null,
   "metadata": {},
   "outputs": [],
   "source": []
  }
 ],
 "metadata": {
  "kernelspec": {
   "display_name": "Python 3",
   "language": "python",
   "name": "python3"
  },
  "language_info": {
   "codemirror_mode": {
    "name": "ipython",
    "version": 3
   },
   "file_extension": ".py",
   "mimetype": "text/x-python",
   "name": "python",
   "nbconvert_exporter": "python",
   "pygments_lexer": "ipython3",
   "version": "3.6.5"
  }
 },
 "nbformat": 4,
 "nbformat_minor": 2
}
