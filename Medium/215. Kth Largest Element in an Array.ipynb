{
 "cells": [
  {
   "cell_type": "markdown",
   "metadata": {},
   "source": [
    "### 题目要求：找到数组中第k大的数字，然后返回"
   ]
  },
  {
   "cell_type": "code",
   "execution_count": 18,
   "metadata": {},
   "outputs": [],
   "source": [
    "def findKthLargest(nums, k: int) -> int:\n",
    "#     if k > len(nums):\n",
    "#         return -1\n",
    "#     nums = sorted(nums)\n",
    "#     return nums[::-1][k-1]\n",
    "    nums.sort()\n",
    "    return nums[-k]\n",
    "\n",
    "# 这道题这样来做是比较简单的，但是一个情况就是如果nums的size无敌大时，用列表的sort的方法，时间复杂度是否符合要求"
   ]
  },
  {
   "cell_type": "code",
   "execution_count": 44,
   "metadata": {},
   "outputs": [
    {
     "data": {
      "text/plain": [
       "4"
      ]
     },
     "execution_count": 44,
     "metadata": {},
     "output_type": "execute_result"
    }
   ],
   "source": [
    "nums = [3,2,1,5,6,4]\n",
    "k = 3\n",
    "ans = findKthLargest(nums, k)\n",
    "ans"
   ]
  },
  {
   "cell_type": "code",
   "execution_count": 22,
   "metadata": {},
   "outputs": [],
   "source": [
    "import heapq\n",
    "def findKthLargest(nums, k: int) -> int:\n",
    "    nums = [-num for num in nums]\n",
    "    heapq.heapify(nums)\n",
    "    for _ in range(k):\n",
    "        res = heapq.heappop(nums)\n",
    "    return -res"
   ]
  },
  {
   "cell_type": "code",
   "execution_count": 36,
   "metadata": {},
   "outputs": [],
   "source": [
    "import heapq\n",
    "def findKthLargest(nums, k: int) -> int:\n",
    "    min_heap = [-float('inf')] * k\n",
    "    heapq.heapify(min_heap)\n",
    "    for num in nums:\n",
    "        if num > min_heap[0]:\n",
    "            heapq.heappop(min_heap)\n",
    "            heapq.heappush(min_heap, num)\n",
    "    return min_heap[0]"
   ]
  },
  {
   "cell_type": "code",
   "execution_count": null,
   "metadata": {},
   "outputs": [],
   "source": []
  }
 ],
 "metadata": {
  "kernelspec": {
   "display_name": "Python 3",
   "language": "python",
   "name": "python3"
  },
  "language_info": {
   "codemirror_mode": {
    "name": "ipython",
    "version": 3
   },
   "file_extension": ".py",
   "mimetype": "text/x-python",
   "name": "python",
   "nbconvert_exporter": "python",
   "pygments_lexer": "ipython3",
   "version": "3.6.5"
  }
 },
 "nbformat": 4,
 "nbformat_minor": 2
}
