{
 "cells": [
  {
   "cell_type": "markdown",
   "metadata": {},
   "source": [
    "#### 这道题的要求是 ！！！找到字符串中最长的子串而不是子序列\n",
    "#### 子串即原序列中连在一起的字符串，而子序列是原序列中所有字母的集合"
   ]
  },
  {
   "cell_type": "code",
   "execution_count": 3,
   "metadata": {},
   "outputs": [],
   "source": [
    "def lengthOfLongestSubstring(s: str) -> int:\n",
    "    count = []\n",
    "    if not s:\n",
    "        return 0\n",
    "    for i in range(len(s) - 1):\n",
    "        if s[i] != s[i+1]:\n",
    "            if s[i] not in count:\n",
    "                count.append(s[i])\n",
    "        else:\n",
    "            if not count:\n",
    "                count.append(s[i])\n",
    "            else:\n",
    "                if (i + 1) < len(s) - 1:\n",
    "                    count.pop()\n",
    "                    count.append(s[i])\n",
    "                else:\n",
    "                    count.append(s[i])\n",
    "    if s[len(s) - 1] not in count:\n",
    "        count.append(s[len(s) - 1])\n",
    "    return count,len(count)"
   ]
  },
  {
   "cell_type": "code",
   "execution_count": 9,
   "metadata": {},
   "outputs": [
    {
     "data": {
      "text/plain": [
       "4"
      ]
     },
     "execution_count": 9,
     "metadata": {},
     "output_type": "execute_result"
    }
   ],
   "source": [
    "s = 'abcabcd'\n",
    "ans = lengthOfLongestSubstring(s)\n",
    "ans"
   ]
  },
  {
   "cell_type": "markdown",
   "metadata": {},
   "source": [
    "### 做了一会儿发现思路有点问题  一直有新的情况出现  看看别人怎么写的"
   ]
  },
  {
   "cell_type": "code",
   "execution_count": 8,
   "metadata": {},
   "outputs": [],
   "source": [
    "def lengthOfLongestSubstring(s):\n",
    "    start = maxLength = 0\n",
    "    usedChar = {}\n",
    "    for index, char in enumerate(s):\n",
    "        if char in usedChar and start <= usedChar[char]:\n",
    "            start = usedChar[char] + 1\n",
    "        else:\n",
    "            maxLength = max(maxLength, index - start + 1)\n",
    "        usedChar[char] = index\n",
    "    return maxLength"
   ]
  },
  {
   "cell_type": "markdown",
   "metadata": {},
   "source": [
    "### 设置两个变量\n",
    "\n",
    "### start记录新子串的位置\n",
    "\n",
    "### maxLength记录当前子串的最长位置\n",
    "\n",
    "### usedChar是一个字典，记录新的字符的位置"
   ]
  },
  {
   "cell_type": "code",
   "execution_count": null,
   "metadata": {},
   "outputs": [],
   "source": []
  }
 ],
 "metadata": {
  "kernelspec": {
   "display_name": "Python 3",
   "language": "python",
   "name": "python3"
  },
  "language_info": {
   "codemirror_mode": {
    "name": "ipython",
    "version": 3
   },
   "file_extension": ".py",
   "mimetype": "text/x-python",
   "name": "python",
   "nbconvert_exporter": "python",
   "pygments_lexer": "ipython3",
   "version": "3.6.5"
  }
 },
 "nbformat": 4,
 "nbformat_minor": 2
}
