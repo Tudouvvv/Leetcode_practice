{
 "cells": [
  {
   "cell_type": "markdown",
   "metadata": {},
   "source": [
    "### 初始化一个全零的矩阵\n",
    "\n",
    "### 给运算符的范围内加1"
   ]
  },
  {
   "cell_type": "code",
   "execution_count": 5,
   "metadata": {},
   "outputs": [],
   "source": [
    "def maxCount(m: int, n: int, ops) -> int:\n",
    "    matrix = [[0]*n  for i in range(m)]\n",
    "    if not ops:\n",
    "        return False\n",
    "    for operation in ops:\n",
    "        a = operation[0]\n",
    "        b = operation[1]\n",
    "        if a > m or b > n:\n",
    "            return False\n",
    "#         for i in range(a):\n",
    "#             for j in range(b):\n",
    "#                 matrix[i][i] += 1\n",
    "    return ops[0][0] * ops[0][1]  if ops[0][0] * ops[0][1] <= ops[1][0] * ops[1][1] else ops[1][0] * ops[1][1]"
   ]
  },
  {
   "cell_type": "markdown",
   "metadata": {},
   "source": [
    "### 上面的解法失败\n",
    "\n",
    "### 下面的解法：因为如果相加一定是左上角的相加，只要计算左上角的那一块区域就行，没必要完成整个过程(初始化矩阵，加完以后再看元素的个数)"
   ]
  },
  {
   "cell_type": "code",
   "execution_count": 10,
   "metadata": {},
   "outputs": [],
   "source": [
    "def maxCount(m: int, n: int, ops) -> int:\n",
    "    if not ops:\n",
    "        return m * n\n",
    "    return min(op[0] for op in ops) * min(op[1] for op in ops)"
   ]
  },
  {
   "cell_type": "code",
   "execution_count": 12,
   "metadata": {},
   "outputs": [
    {
     "data": {
      "text/plain": [
       "4"
      ]
     },
     "execution_count": 12,
     "metadata": {},
     "output_type": "execute_result"
    }
   ],
   "source": [
    "m, n = 3, 3 \n",
    "ops = [[2, 2], [3, 3]]\n",
    "ans = maxCount(m, n, ops)\n",
    "ans"
   ]
  },
  {
   "cell_type": "code",
   "execution_count": 3,
   "metadata": {},
   "outputs": [],
   "source": [
    "matrix = [[0]*3 for i in range(3)]"
   ]
  },
  {
   "cell_type": "code",
   "execution_count": 12,
   "metadata": {},
   "outputs": [
    {
     "data": {
      "text/plain": [
       "2"
      ]
     },
     "execution_count": 12,
     "metadata": {},
     "output_type": "execute_result"
    }
   ],
   "source": [
    "ops = [[2, 2], [3, 3]]\n",
    "ops[0][0]"
   ]
  }
 ],
 "metadata": {
  "kernelspec": {
   "display_name": "Python 3",
   "language": "python",
   "name": "python3"
  },
  "language_info": {
   "codemirror_mode": {
    "name": "ipython",
    "version": 3
   },
   "file_extension": ".py",
   "mimetype": "text/x-python",
   "name": "python",
   "nbconvert_exporter": "python",
   "pygments_lexer": "ipython3",
   "version": "3.6.5"
  }
 },
 "nbformat": 4,
 "nbformat_minor": 2
}
