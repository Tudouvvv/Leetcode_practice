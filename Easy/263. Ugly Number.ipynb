{
 "cells": [
  {
   "cell_type": "markdown",
   "metadata": {},
   "source": [
    "### 判别一个数的因子是不是只有2、3、5，那么依次来除就行"
   ]
  },
  {
   "cell_type": "code",
   "execution_count": 10,
   "metadata": {},
   "outputs": [],
   "source": [
    "def isUgly(num: int) -> bool:\n",
    "    if num == 0:\n",
    "        return False\n",
    "    while num != 1:\n",
    "        if num % 2 == 0:\n",
    "            num /= 2\n",
    "        elif num%3 ==0:\n",
    "            num /= 3\n",
    "        elif num%5 ==0:\n",
    "            num /= 5\n",
    "        else: \n",
    "            return False\n",
    "    return True"
   ]
  },
  {
   "cell_type": "code",
   "execution_count": 15,
   "metadata": {},
   "outputs": [
    {
     "data": {
      "text/plain": [
       "False"
      ]
     },
     "execution_count": 15,
     "metadata": {},
     "output_type": "execute_result"
    }
   ],
   "source": [
    "num = 28\n",
    "ans = isUgly(num)\n",
    "ans"
   ]
  },
  {
   "cell_type": "markdown",
   "metadata": {},
   "source": [
    "### 第一名："
   ]
  },
  {
   "cell_type": "code",
   "execution_count": 14,
   "metadata": {},
   "outputs": [],
   "source": [
    "def isUgly(num: 'int') -> 'bool':\n",
    "    if num == 0:    return False\n",
    "    # nums = [2, 3, 5]\n",
    "    while num % 5 == 0:\n",
    "        num /= 5\n",
    "    while num % 3 == 0:\n",
    "        num /= 3\n",
    "    while num % 2 == 0:\n",
    "        num /= 2\n",
    "    return num == 1"
   ]
  },
  {
   "cell_type": "code",
   "execution_count": null,
   "metadata": {},
   "outputs": [],
   "source": []
  }
 ],
 "metadata": {
  "kernelspec": {
   "display_name": "Python 3",
   "language": "python",
   "name": "python3"
  },
  "language_info": {
   "codemirror_mode": {
    "name": "ipython",
    "version": 3
   },
   "file_extension": ".py",
   "mimetype": "text/x-python",
   "name": "python",
   "nbconvert_exporter": "python",
   "pygments_lexer": "ipython3",
   "version": "3.6.5"
  }
 },
 "nbformat": 4,
 "nbformat_minor": 2
}
