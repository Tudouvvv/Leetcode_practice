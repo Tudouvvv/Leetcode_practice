{
 "cells": [
  {
   "cell_type": "markdown",
   "metadata": {},
   "source": [
    "###  把后面的提取出来，然后加在一起，再把后面的pop掉，不知道为什么通过不了，难道我不是原地修改的？"
   ]
  },
  {
   "cell_type": "code",
   "execution_count": 21,
   "metadata": {},
   "outputs": [],
   "source": [
    "# def rotate(nums, k: int):\n",
    "#     temp = nums[len(nums)-k:]\n",
    "#     nums = temp + nums\n",
    "#     for i in range(k):\n",
    "#         nums.pop()\n",
    "#     return nums\n",
    "def rotate(nums, k):\n",
    "    length = len(nums)\n",
    "    k = k % length\n",
    "    nums[:] = nums[-k:] + num[:-k]"
   ]
  },
  {
   "cell_type": "code",
   "execution_count": 14,
   "metadata": {},
   "outputs": [],
   "source": [
    "def rotate(nums, k: int):\n",
    "    if k < 0:\n",
    "        return \n",
    "    k = k % len(nums)\n",
    "    end = len(nums) - 1\n",
    "    reverse(nums, 0, len(nums) - k)\n",
    "    reverse(nums, k+1, end)\n",
    "    reverse(nums, 0, end)\n",
    "def reverse(nums, start, end):\n",
    "    while start < end:\n",
    "        nums[start], nums[end] = nums[end], nums[start]\n",
    "        start += 1\n",
    "        end -= 1\n",
    "    return nums"
   ]
  },
  {
   "cell_type": "code",
   "execution_count": 15,
   "metadata": {},
   "outputs": [],
   "source": [
    "k = 3\n",
    "nums = [1, 2, 3, 4, 5, 6, 7]\n",
    "ans = rotate(nums, k)\n",
    "ans"
   ]
  },
  {
   "cell_type": "code",
   "execution_count": null,
   "metadata": {},
   "outputs": [],
   "source": []
  },
  {
   "cell_type": "code",
   "execution_count": null,
   "metadata": {},
   "outputs": [],
   "source": []
  },
  {
   "cell_type": "code",
   "execution_count": null,
   "metadata": {},
   "outputs": [],
   "source": []
  }
 ],
 "metadata": {
  "kernelspec": {
   "display_name": "Python 3",
   "language": "python",
   "name": "python3"
  },
  "language_info": {
   "codemirror_mode": {
    "name": "ipython",
    "version": 3
   },
   "file_extension": ".py",
   "mimetype": "text/x-python",
   "name": "python",
   "nbconvert_exporter": "python",
   "pygments_lexer": "ipython3",
   "version": "3.6.5"
  }
 },
 "nbformat": 4,
 "nbformat_minor": 2
}
