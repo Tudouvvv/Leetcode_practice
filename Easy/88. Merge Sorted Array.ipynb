{
 "cells": [
  {
   "cell_type": "markdown",
   "metadata": {},
   "source": [
    "### 题目要求：给两个有序数组，然后把它们加在一起，并且内部有序"
   ]
  },
  {
   "cell_type": "code",
   "execution_count": 9,
   "metadata": {},
   "outputs": [],
   "source": [
    "def merge(nums1, m: int, nums2, n: int):\n",
    "    \"\"\"\n",
    "    Do not return anything, modify nums1 in-place instead.\n",
    "    \"\"\"\n",
    "    while m > 0 and n > 0:\n",
    "        if nums1[m-1] >= nums2[n-1]:\n",
    "            nums1[m+n-1] = nums1[m-1]\n",
    "            m -= 1\n",
    "        else:\n",
    "            nums1[m+n-1] = nums2[n-1]\n",
    "            n -= 1\n",
    "    if n > 0:\n",
    "        nums1[:n] = nums2[:n]"
   ]
  },
  {
   "cell_type": "code",
   "execution_count": 20,
   "metadata": {},
   "outputs": [],
   "source": [
    "def merge(nums1, m: int, nums2, n: int):\n",
    "    \"\"\"\n",
    "    Do not return anything, modify nums1 in-place instead.\n",
    "    \"\"\"\n",
    "    while m > 0 and n > 0:\n",
    "        if nums1[m-1] > nums2[n-1]:\n",
    "            nums[m+n-1] = nums1[m-1]\n",
    "            m -= 1\n",
    "        else:\n",
    "            nums[m+n-1] = nums2[n-1]\n",
    "            n -= 1\n",
    "    if n > 0:\n",
    "        nums1[:n] = nums2[:n]"
   ]
  },
  {
   "cell_type": "code",
   "execution_count": 21,
   "metadata": {},
   "outputs": [
    {
     "name": "stdout",
     "output_type": "stream",
     "text": [
      "[1]\n"
     ]
    }
   ],
   "source": [
    "nums1 = []\n",
    "nums2 = [1]\n",
    "m = 0\n",
    "n = 1\n",
    "merge(nums1, m, nums2, n)\n",
    "print(nums1)"
   ]
  },
  {
   "cell_type": "code",
   "execution_count": null,
   "metadata": {},
   "outputs": [],
   "source": []
  }
 ],
 "metadata": {
  "kernelspec": {
   "display_name": "Python 3",
   "language": "python",
   "name": "python3"
  },
  "language_info": {
   "codemirror_mode": {
    "name": "ipython",
    "version": 3
   },
   "file_extension": ".py",
   "mimetype": "text/x-python",
   "name": "python",
   "nbconvert_exporter": "python",
   "pygments_lexer": "ipython3",
   "version": "3.6.5"
  }
 },
 "nbformat": 4,
 "nbformat_minor": 2
}
