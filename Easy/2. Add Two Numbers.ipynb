{
 "cells": [
  {
   "cell_type": "code",
   "execution_count": null,
   "metadata": {},
   "outputs": [],
   "source": [
    "def addTwoNumbers(self, l1, l2):\n",
    "    \"\"\"\n",
    "    :type l1: ListNode\n",
    "    :type l2: ListNode\n",
    "    :rtype: ListNode\n",
    "    \"\"\"\n",
    "    head = ListNode(0)\n",
    "    current = head\n",
    "    \n",
    "    while l1 != None and l2 != None:\n",
    "        if l1.val + l2.val < 10:\n",
    "            current = l1.val + l2.val\n",
    "            l1 = l1.next\n",
    "            l2 = l2.next\n",
    "        else:\n",
    "            current = l1.val + l2.val - 10\n",
    "            l1 = l1.next\n",
    "            l1.val += 1\n",
    "            l2 = l2.next\n",
    "        current = current.next\n",
    "    \n",
    "    if l1 == None:\n",
    "        current.next = l2\n",
    "    if l2 == None:\n",
    "        current.next = l1\n",
    "    return head.next"
   ]
  }
 ],
 "metadata": {
  "kernelspec": {
   "display_name": "Python 3",
   "language": "python",
   "name": "python3"
  },
  "language_info": {
   "codemirror_mode": {
    "name": "ipython",
    "version": 3
   },
   "file_extension": ".py",
   "mimetype": "text/x-python",
   "name": "python",
   "nbconvert_exporter": "python",
   "pygments_lexer": "ipython3",
   "version": "3.6.5"
  }
 },
 "nbformat": 4,
 "nbformat_minor": 2
}
