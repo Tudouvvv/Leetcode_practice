{
 "cells": [
  {
   "cell_type": "code",
   "execution_count": 1,
   "metadata": {},
   "outputs": [],
   "source": [
    "def titleToNumber(s: str) -> int:\n",
    "    search_map = {\n",
    "        'A':1,'B':2,'C':3,'D':4,\n",
    "        'E':5,'F':6,'G':7,'H':8,\n",
    "        'I':9,'J':10,'K':11,'L':12,\n",
    "        'M':13,'N':14,'O':15,'P':16,\n",
    "        'Q':17,'R':18,'S':19,'T':20,\n",
    "        'U':21,'V':22,'W':23,'X':24,\n",
    "        'Y':25,'Z':26}\n",
    "    ans = 0\n",
    "    s = s[::-1]\n",
    "    for i in range(len(s)):\n",
    "        ans += (search_map[s[i]]*(26**i))\n",
    "    return ans"
   ]
  },
  {
   "cell_type": "code",
   "execution_count": 4,
   "metadata": {},
   "outputs": [
    {
     "data": {
      "text/plain": [
       "701"
      ]
     },
     "execution_count": 4,
     "metadata": {},
     "output_type": "execute_result"
    }
   ],
   "source": [
    "str = 'ZY'\n",
    "ans = titleToNumber(str)\n",
    "ans"
   ]
  },
  {
   "cell_type": "code",
   "execution_count": null,
   "metadata": {},
   "outputs": [],
   "source": []
  }
 ],
 "metadata": {
  "kernelspec": {
   "display_name": "Python 3",
   "language": "python",
   "name": "python3"
  },
  "language_info": {
   "codemirror_mode": {
    "name": "ipython",
    "version": 3
   },
   "file_extension": ".py",
   "mimetype": "text/x-python",
   "name": "python",
   "nbconvert_exporter": "python",
   "pygments_lexer": "ipython3",
   "version": "3.6.5"
  }
 },
 "nbformat": 4,
 "nbformat_minor": 2
}
