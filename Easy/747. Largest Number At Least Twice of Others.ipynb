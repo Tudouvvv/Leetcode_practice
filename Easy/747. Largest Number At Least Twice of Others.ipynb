{
 "cells": [
  {
   "cell_type": "markdown",
   "metadata": {},
   "source": [
    "### 题目要求：给你一个数组，判断最大的数是否是第二大数的两倍，如果是，返回最大数的索引，如果不是，返回-1"
   ]
  },
  {
   "cell_type": "code",
   "execution_count": 9,
   "metadata": {},
   "outputs": [],
   "source": [
    "def dominantIndex(nums) -> int:\n",
    "    nums_new = sorted(nums[:])\n",
    "    if len(nums) == 1:\n",
    "        return 0\n",
    "    if nums_new[-2] == 0:\n",
    "        return nums.index(nums_new[-1])\n",
    "    elif nums_new[-1] / nums_new[-2] < 2:\n",
    "        return -1\n",
    "    else:\n",
    "        return nums.index(nums_new[-1])"
   ]
  },
  {
   "cell_type": "code",
   "execution_count": 18,
   "metadata": {},
   "outputs": [],
   "source": [
    "def dominantIndex(nums):\n",
    "    if len(nums) == 1:\n",
    "        return 0\n",
    "    m1 = max(nums)\n",
    "    idx = nums.index(m1)\n",
    "    m2 = max(nums[0:idx] + nums[idx+1:])\n",
    "    return idx if m1 >= 2*m2 else -1"
   ]
  },
  {
   "cell_type": "code",
   "execution_count": 19,
   "metadata": {},
   "outputs": [
    {
     "data": {
      "text/plain": [
       "3"
      ]
     },
     "execution_count": 19,
     "metadata": {},
     "output_type": "execute_result"
    }
   ],
   "source": [
    "nums = [1,2, 3,6]\n",
    "ans = dominantIndex(nums)\n",
    "ans"
   ]
  },
  {
   "cell_type": "code",
   "execution_count": null,
   "metadata": {},
   "outputs": [],
   "source": []
  },
  {
   "cell_type": "code",
   "execution_count": null,
   "metadata": {},
   "outputs": [],
   "source": []
  }
 ],
 "metadata": {
  "kernelspec": {
   "display_name": "Python 3",
   "language": "python",
   "name": "python3"
  },
  "language_info": {
   "codemirror_mode": {
    "name": "ipython",
    "version": 3
   },
   "file_extension": ".py",
   "mimetype": "text/x-python",
   "name": "python",
   "nbconvert_exporter": "python",
   "pygments_lexer": "ipython3",
   "version": "3.6.5"
  }
 },
 "nbformat": 4,
 "nbformat_minor": 2
}
