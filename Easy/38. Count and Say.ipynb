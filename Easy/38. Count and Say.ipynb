{
 "cells": [
  {
   "cell_type": "code",
   "execution_count": 21,
   "metadata": {},
   "outputs": [],
   "source": [
    "# def countAndSay(n):\n",
    "#     \"\"\"\n",
    "#     :type n: int\n",
    "#     :rtype: str\n",
    "#     \"\"\"\n",
    "#     init_val = '1'\n",
    "#     for i in range(n-1):\n",
    "#         init_val = get_next(init_val)\n",
    "#     return init_val\n",
    "\n",
    "# def get_next(init_val):\n",
    "#     next_val = ''\n",
    "#     i = 0\n",
    "#     while i < len(init_val):\n",
    "#         count = 1\n",
    "#         while i < len(init_val) - 1 and init_val[i] == init_val[i+1]:\n",
    "#             count += 1\n",
    "#             i += 1\n",
    "#         next_val+=str(count) + init_val[i]\n",
    "#         i += 1\n",
    "#     return next_val"
   ]
  },
  {
   "cell_type": "code",
   "execution_count": 5,
   "metadata": {},
   "outputs": [],
   "source": [
    "def countAndSay(n):\n",
    "    \"\"\"\n",
    "    :type n: int\n",
    "    :rtype: str\n",
    "    \"\"\"\n",
    "    s = '1'\n",
    "    \n",
    "    for i in range(n - 1):\n",
    "        s = get_next(s)\n",
    "    \n",
    "    return s\n",
    "\n",
    "\n",
    "def get_next(s):\n",
    "    next_str = ''\n",
    "    count = 0\n",
    "    k = None\n",
    "    \n",
    "    for c in s:\n",
    "        if c != k:\n",
    "            if count > 0:\n",
    "                next_str += str(count) + k\n",
    "            count = 1\n",
    "            k = c\n",
    "        else:\n",
    "            count += 1\n",
    "    \n",
    "    if count > 0:\n",
    "        next_str += str(count) + k\n",
    "    \n",
    "    return next_str"
   ]
  },
  {
   "cell_type": "code",
   "execution_count": 9,
   "metadata": {},
   "outputs": [
    {
     "name": "stdout",
     "output_type": "stream",
     "text": [
      "312211\n"
     ]
    }
   ],
   "source": [
    "n = 6\n",
    "ans = countAndSay(n)\n",
    "print(ans)"
   ]
  },
  {
   "cell_type": "code",
   "execution_count": null,
   "metadata": {},
   "outputs": [],
   "source": []
  }
 ],
 "metadata": {
  "kernelspec": {
   "display_name": "Python 3",
   "language": "python",
   "name": "python3"
  },
  "language_info": {
   "codemirror_mode": {
    "name": "ipython",
    "version": 3
   },
   "file_extension": ".py",
   "mimetype": "text/x-python",
   "name": "python",
   "nbconvert_exporter": "python",
   "pygments_lexer": "ipython3",
   "version": "3.6.5"
  }
 },
 "nbformat": 4,
 "nbformat_minor": 2
}
