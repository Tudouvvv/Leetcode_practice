{
 "cells": [
  {
   "cell_type": "markdown",
   "metadata": {},
   "source": [
    "### 一串数组，有的元素没有出现，有的出现过两次，现在要求没有出现的这些数字\n",
    "\n",
    "### 思路：首先用set去重，然后计算没有出现的元素的总和，但是不知道怎么找到确切的数字，因为不确定重复了几个数字"
   ]
  },
  {
   "cell_type": "code",
   "execution_count": null,
   "metadata": {},
   "outputs": [],
   "source": [
    "def findDisappearedNumbers(nums):\n",
    "    if not nums:\n",
    "        return []\n",
    "    new_nums= set(nums)\n",
    "    p = sum(nums) - sum(new_nums)\n",
    "    m = len(nums) - len(new_nums)\n",
    "    dump = p // m\n",
    "    if m % 2 == 0:\n",
    "        ans = []\n",
    "        for i in range(m):\n",
    "            ans.append()"
   ]
  },
  {
   "cell_type": "code",
   "execution_count": 15,
   "metadata": {},
   "outputs": [],
   "source": [
    "def findDisappearedNumbers(nums):\n",
    "    for num in nums:\n",
    "        index = abs(num) - 1\n",
    "        nums[index] = -abs(nums[index])\n",
    "            \n",
    "    return [i + 1 for i, num in enumerate(nums) if num > 0]"
   ]
  },
  {
   "cell_type": "code",
   "execution_count": 16,
   "metadata": {},
   "outputs": [
    {
     "data": {
      "text/plain": [
       "[5, 6]"
      ]
     },
     "execution_count": 16,
     "metadata": {},
     "output_type": "execute_result"
    }
   ],
   "source": [
    "nums = [4,3,2,7,8,2,3,1]\n",
    "ans = findDisappearedNumbers(nums)\n",
    "ans"
   ]
  },
  {
   "cell_type": "code",
   "execution_count": null,
   "metadata": {},
   "outputs": [],
   "source": []
  },
  {
   "cell_type": "code",
   "execution_count": null,
   "metadata": {},
   "outputs": [],
   "source": []
  }
 ],
 "metadata": {
  "kernelspec": {
   "display_name": "Python 3",
   "language": "python",
   "name": "python3"
  },
  "language_info": {
   "codemirror_mode": {
    "name": "ipython",
    "version": 3
   },
   "file_extension": ".py",
   "mimetype": "text/x-python",
   "name": "python",
   "nbconvert_exporter": "python",
   "pygments_lexer": "ipython3",
   "version": "3.6.5"
  }
 },
 "nbformat": 4,
 "nbformat_minor": 2
}
