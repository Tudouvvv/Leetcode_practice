{
 "cells": [
  {
   "cell_type": "markdown",
   "metadata": {},
   "source": [
    "### 将输入的数字转为二进制表示，求两个1之间的最长距离\n",
    "\n",
    "### 从遇见第一个1开始，统计0的个数，直到下一个1为止，记为P1\n",
    "\n",
    "### 然后存储P1，清空P1，接着统计，然后取max，直到遍历结束\n",
    "\n",
    "### 但是发现不会写 - -\n",
    "\n",
    "### 统计两个1之间的距离也就是统计两个1之间0的个数然后加1就行"
   ]
  },
  {
   "cell_type": "code",
   "execution_count": 17,
   "metadata": {},
   "outputs": [],
   "source": [
    "def binaryGap(N: int) -> int:\n",
    "    n = str(bin(N)[2:])\n",
    "    ans = n.strip('0').split('1')\n",
    "    return max(len(char) for char in ans) + 1 if N & (N-1) else 0"
   ]
  },
  {
   "cell_type": "code",
   "execution_count": 8,
   "metadata": {},
   "outputs": [
    {
     "data": {
      "text/plain": [
       "0"
      ]
     },
     "execution_count": 8,
     "metadata": {},
     "output_type": "execute_result"
    }
   ],
   "source": [
    "n = 8\n",
    "ans = binaryGap(n)\n",
    "ans"
   ]
  },
  {
   "cell_type": "code",
   "execution_count": 7,
   "metadata": {},
   "outputs": [],
   "source": [
    "# 解法二：先把1的索引保存下来\n",
    "def binaryGap(N: int) -> int:\n",
    "    index = [i for i, v in enumerate(bin(N)) if v == '1']\n",
    "    return max([b - a  for a, b in zip(index, index[1:])] or [0])"
   ]
  },
  {
   "cell_type": "code",
   "execution_count": 21,
   "metadata": {},
   "outputs": [
    {
     "data": {
      "text/plain": [
       "2"
      ]
     },
     "execution_count": 21,
     "metadata": {},
     "output_type": "execute_result"
    }
   ],
   "source": [
    "index = [i for i, v in enumerate(bin(22)) if v == '1']\n",
    "max([b - a  for a, b in zip(index, index[1:])])"
   ]
  },
  {
   "cell_type": "code",
   "execution_count": 13,
   "metadata": {},
   "outputs": [
    {
     "data": {
      "text/plain": [
       "0"
      ]
     },
     "execution_count": 13,
     "metadata": {},
     "output_type": "execute_result"
    }
   ],
   "source": [
    "max([] or [0])"
   ]
  },
  {
   "cell_type": "code",
   "execution_count": null,
   "metadata": {},
   "outputs": [],
   "source": []
  }
 ],
 "metadata": {
  "kernelspec": {
   "display_name": "Python 3",
   "language": "python",
   "name": "python3"
  },
  "language_info": {
   "codemirror_mode": {
    "name": "ipython",
    "version": 3
   },
   "file_extension": ".py",
   "mimetype": "text/x-python",
   "name": "python",
   "nbconvert_exporter": "python",
   "pygments_lexer": "ipython3",
   "version": "3.6.5"
  }
 },
 "nbformat": 4,
 "nbformat_minor": 2
}
