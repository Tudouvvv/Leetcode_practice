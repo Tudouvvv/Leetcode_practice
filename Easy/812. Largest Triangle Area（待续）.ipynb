{
 "cells": [
  {
   "cell_type": "markdown",
   "metadata": {},
   "source": [
    "### 给很多点，要求得到最大三角形的面积\n",
    "### 可以根据海伦公式得到面积   关键是组合方式有很多种  遍历太慢了\n",
    "### 么得思路   先按照笨办法来呗"
   ]
  },
  {
   "cell_type": "code",
   "execution_count": 37,
   "metadata": {},
   "outputs": [],
   "source": [
    "def largestTriangleArea(points) -> float:\n",
    "    size = len(points)\n",
    "    S = 0\n",
    "    for i in range(size):\n",
    "        for j in range(i+1, size):\n",
    "            for k in range(j+1, size):\n",
    "                x1, y1 = points[i]\n",
    "                x2, y2 = points[j]\n",
    "                x3, y3 = points[k]\n",
    "                S = max(S, Heron(x1, y1, x2, y2, x3, y3))\n",
    "    return S                \n",
    "        \n",
    "def Heron(x1, y1, x2, y2, x3, y3):\n",
    "    a = ((x1-x2)**2 + (y1 - y2)**2)**0.5\n",
    "    b = ((x3-x2)**2 + (y3 - y2)**2)**0.5\n",
    "    c = ((x1-x3)**2 + (y1 - y3)**2)**0.5\n",
    "    p = (a + b + c) / 2\n",
    "    a = p - a\n",
    "    b = p - b\n",
    "    c = p - c\n",
    "    S = ((p * a * b * c)**0.5)\n",
    "    if type(S) == complex:\n",
    "        return 0\n",
    "    else:\n",
    "        return S"
   ]
  },
  {
   "cell_type": "code",
   "execution_count": 38,
   "metadata": {},
   "outputs": [
    {
     "data": {
      "text/plain": [
       "1799.0000000000005"
      ]
     },
     "execution_count": 38,
     "metadata": {},
     "output_type": "execute_result"
    }
   ],
   "source": [
    "# points = [[0,0],[0,1],[1,0],[0,2],[2,0]]\n",
    "points = [[-35,19],[40,19],[27,-20],[35,-3],[44,20],[22,-21],[35,33],[-19,42],[11,47],[11,37]]\n",
    "ans = largestTriangleArea(points)\n",
    "ans"
   ]
  },
  {
   "cell_type": "code",
   "execution_count": 25,
   "metadata": {},
   "outputs": [],
   "source": []
  },
  {
   "cell_type": "code",
   "execution_count": null,
   "metadata": {},
   "outputs": [],
   "source": []
  },
  {
   "cell_type": "code",
   "execution_count": 36,
   "metadata": {},
   "outputs": [
    {
     "name": "stdout",
     "output_type": "stream",
     "text": [
      "1\n"
     ]
    }
   ],
   "source": [
    "if type(1.0388754981246228e-21+1.696612441804328e-05j) == complex:\n",
    "    print(1)\n",
    "else: print(2)\n",
    "# type(1.0388754981246228e-21+1.696612441804328e-05j)"
   ]
  },
  {
   "cell_type": "code",
   "execution_count": null,
   "metadata": {},
   "outputs": [],
   "source": []
  }
 ],
 "metadata": {
  "kernelspec": {
   "display_name": "Python 3",
   "language": "python",
   "name": "python3"
  },
  "language_info": {
   "codemirror_mode": {
    "name": "ipython",
    "version": 3
   },
   "file_extension": ".py",
   "mimetype": "text/x-python",
   "name": "python",
   "nbconvert_exporter": "python",
   "pygments_lexer": "ipython3",
   "version": "3.6.5"
  }
 },
 "nbformat": 4,
 "nbformat_minor": 2
}
