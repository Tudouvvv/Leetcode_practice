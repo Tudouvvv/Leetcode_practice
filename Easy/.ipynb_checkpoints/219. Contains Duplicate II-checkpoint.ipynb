{
 "cells": [
  {
   "cell_type": "markdown",
   "metadata": {},
   "source": [
    "### 题目要求：找到数组里两个相同的数字，它们的索引之差不能大于k\n",
    "\n",
    "### 笨办法：每个元素在k的范围内都去找是否有和它一样的元素，果然TLE"
   ]
  },
  {
   "cell_type": "code",
   "execution_count": 12,
   "metadata": {},
   "outputs": [],
   "source": [
    "def containsNearbyDuplicate(nums, k: int) -> bool:\n",
    "    if not nums:\n",
    "        return False\n",
    "    for i in range(0, len(nums)-1):\n",
    "        if nums[i] in nums[i+1:i+k+1]:\n",
    "            return True\n",
    "    return False"
   ]
  },
  {
   "cell_type": "code",
   "execution_count": 14,
   "metadata": {},
   "outputs": [],
   "source": [
    "def containsNearbyDuplicate(nums, k):\n",
    "    dic = {}\n",
    "    for i, v in enumerate(nums):\n",
    "        if v in dic and i - dic[v] <= k:\n",
    "            return True\n",
    "        dic[v] = i\n",
    "    return False"
   ]
  },
  {
   "cell_type": "code",
   "execution_count": 15,
   "metadata": {},
   "outputs": [
    {
     "data": {
      "text/plain": [
       "False"
      ]
     },
     "execution_count": 15,
     "metadata": {},
     "output_type": "execute_result"
    }
   ],
   "source": [
    "nums = [1,2,1]\n",
    "k = 0\n",
    "ans = containsNearbyDuplicate(nums, k)\n",
    "ans"
   ]
  },
  {
   "cell_type": "code",
   "execution_count": null,
   "metadata": {},
   "outputs": [],
   "source": []
  }
 ],
 "metadata": {
  "kernelspec": {
   "display_name": "Python 3",
   "language": "python",
   "name": "python3"
  },
  "language_info": {
   "codemirror_mode": {
    "name": "ipython",
    "version": 3
   },
   "file_extension": ".py",
   "mimetype": "text/x-python",
   "name": "python",
   "nbconvert_exporter": "python",
   "pygments_lexer": "ipython3",
   "version": "3.6.5"
  }
 },
 "nbformat": 4,
 "nbformat_minor": 2
}
