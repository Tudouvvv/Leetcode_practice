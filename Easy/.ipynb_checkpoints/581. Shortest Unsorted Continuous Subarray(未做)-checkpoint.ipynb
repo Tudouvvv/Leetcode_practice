{
 "cells": [
  {
   "cell_type": "markdown",
   "metadata": {},
   "source": [
    "### 题目要求：一组数据，中间有一段无序的数字，如果这段数字有序，则整个数组有序，返回这些数字的个数"
   ]
  },
  {
   "cell_type": "code",
   "execution_count": 37,
   "metadata": {},
   "outputs": [],
   "source": [
    "def findUnsortedSubarray(nums) -> int:\n",
    "    nums_sort = nums[:]\n",
    "    nums_sort.sort()\n",
    "    if nums == nums_sort:\n",
    "        return 0\n",
    "    length = len(nums)\n",
    "    left, right = 0, 0\n",
    "    for i in range(length):\n",
    "        if nums[i] != nums_sort[i]:\n",
    "            left = i\n",
    "            break\n",
    "    for i in range(length):\n",
    "        if nums[-i-1] != nums_sort[-i-1]:\n",
    "            right = length-i-1\n",
    "            break\n",
    "    return right-left+1"
   ]
  },
  {
   "cell_type": "code",
   "execution_count": 38,
   "metadata": {},
   "outputs": [
    {
     "data": {
      "text/plain": [
       "5"
      ]
     },
     "execution_count": 38,
     "metadata": {},
     "output_type": "execute_result"
    }
   ],
   "source": [
    "nums = [2, 6, 4, 8, 10, 9, 15]\n",
    "ans = findUnsortedSubarray(nums)\n",
    "ans"
   ]
  },
  {
   "cell_type": "code",
   "execution_count": null,
   "metadata": {},
   "outputs": [],
   "source": []
  },
  {
   "cell_type": "code",
   "execution_count": null,
   "metadata": {},
   "outputs": [],
   "source": []
  }
 ],
 "metadata": {
  "kernelspec": {
   "display_name": "Python 3",
   "language": "python",
   "name": "python3"
  },
  "language_info": {
   "codemirror_mode": {
    "name": "ipython",
    "version": 3
   },
   "file_extension": ".py",
   "mimetype": "text/x-python",
   "name": "python",
   "nbconvert_exporter": "python",
   "pygments_lexer": "ipython3",
   "version": "3.6.5"
  }
 },
 "nbformat": 4,
 "nbformat_minor": 2
}
