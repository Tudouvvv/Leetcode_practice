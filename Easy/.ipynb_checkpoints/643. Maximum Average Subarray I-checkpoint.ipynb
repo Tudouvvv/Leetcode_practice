{
 "cells": [
  {
   "cell_type": "markdown",
   "metadata": {},
   "source": [
    "### 题目要求：给一个数组和一个k，找到连续k个数的平均值最大\n",
    "\n",
    "### 难道要从头开始k个数字开始试？\n",
    "### 不知道为什超出时限，而滑动窗口这个就可以直接通过还挺快？"
   ]
  },
  {
   "cell_type": "code",
   "execution_count": 9,
   "metadata": {},
   "outputs": [],
   "source": [
    "def findMaxAverage(nums, k: int) -> float:\n",
    "    count = -(float('inf'))\n",
    "    i = 0\n",
    "    while i + k <= len(nums):\n",
    "        k_sum = sum(nums[i:i+k])\n",
    "        count = max(count, k_sum)\n",
    "        i += 1\n",
    "    return float(count / k)\n",
    "# 超时了"
   ]
  },
  {
   "cell_type": "code",
   "execution_count": 12,
   "metadata": {},
   "outputs": [],
   "source": [
    "def findMaxAverage(sums, k):\n",
    "    P = [0]\n",
    "    for x in nums:\n",
    "        P.append(P[-1] + x)\n",
    "    ma = max(P[i+k] - P[i] \n",
    "             for i in range(len(nums) - k + 1))\n",
    "    return ma / float(k)"
   ]
  },
  {
   "cell_type": "code",
   "execution_count": 3,
   "metadata": {},
   "outputs": [],
   "source": [
    "def findMaxAverage(nums, k: int) -> float:\n",
    "    sum_window = sum(nums[0:k])\n",
    "    max_sum = sum_window\n",
    "    for i in range(k, len(nums)):\n",
    "        sum_window = sum_window - nums[i - k] + nums[i]\n",
    "        max_sum = max(max_sum, sum_window)\n",
    "    return max_sum / k"
   ]
  },
  {
   "cell_type": "code",
   "execution_count": 4,
   "metadata": {},
   "outputs": [
    {
     "data": {
      "text/plain": [
       "12.75"
      ]
     },
     "execution_count": 4,
     "metadata": {},
     "output_type": "execute_result"
    }
   ],
   "source": [
    "nums = [1,12,-5,-6,50,3]\n",
    "k = 4\n",
    "ans = findMaxAverage(nums, k)\n",
    "ans"
   ]
  },
  {
   "cell_type": "code",
   "execution_count": null,
   "metadata": {},
   "outputs": [],
   "source": []
  },
  {
   "cell_type": "code",
   "execution_count": null,
   "metadata": {},
   "outputs": [],
   "source": []
  }
 ],
 "metadata": {
  "kernelspec": {
   "display_name": "Python 3",
   "language": "python",
   "name": "python3"
  },
  "language_info": {
   "codemirror_mode": {
    "name": "ipython",
    "version": 3
   },
   "file_extension": ".py",
   "mimetype": "text/x-python",
   "name": "python",
   "nbconvert_exporter": "python",
   "pygments_lexer": "ipython3",
   "version": "3.6.5"
  }
 },
 "nbformat": 4,
 "nbformat_minor": 2
}
