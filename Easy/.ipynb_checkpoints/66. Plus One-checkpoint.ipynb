{
 "cells": [
  {
   "cell_type": "markdown",
   "metadata": {},
   "source": [
    "### 题目要求：给你一个只包含数字的列表，然后+1，输出\n",
    "\n",
    "### 思路：目前有两种，一种是最后一位加1，逢10进1，但是有一种情况就是9...9，需要新建一位，不知道怎么做\n",
    "\n",
    "### 第二种是先把元素变为一个整数，然后加1，然后在变回去"
   ]
  },
  {
   "cell_type": "code",
   "execution_count": 38,
   "metadata": {},
   "outputs": [],
   "source": [
    "def plusOne(digits):\n",
    "    p = []\n",
    "    s = []\n",
    "    for char in digits:\n",
    "        p.append(str(char))\n",
    "    p = \"\".join(p)\n",
    "    for char in str(int(p)+1):\n",
    "        s.append(int(char))\n",
    "    return s"
   ]
  },
  {
   "cell_type": "code",
   "execution_count": 51,
   "metadata": {},
   "outputs": [
    {
     "data": {
      "text/plain": [
       "[1, 0, 0]"
      ]
     },
     "execution_count": 51,
     "metadata": {},
     "output_type": "execute_result"
    }
   ],
   "source": [
    "digits = [9,9]\n",
    "ans = plusOne(digits)\n",
    "ans"
   ]
  },
  {
   "cell_type": "markdown",
   "metadata": {},
   "source": [
    "### 耗时52ms，14.53%"
   ]
  },
  {
   "cell_type": "code",
   "execution_count": 45,
   "metadata": {},
   "outputs": [],
   "source": [
    "def plusOne(digits):\n",
    "    for i in range(len(digits) - 1, -1, -1):\n",
    "        if digits[i] != 9:\n",
    "            digits[i] += 1\n",
    "            return digits\n",
    "            \n",
    "        digits[i] = 0\n",
    "            \n",
    "    return [1] + digits"
   ]
  },
  {
   "cell_type": "code",
   "execution_count": 50,
   "metadata": {},
   "outputs": [
    {
     "name": "stdout",
     "output_type": "stream",
     "text": [
      "[1, 3, 0]\n",
      "[2, 0, 0]\n",
      "[1, 0, 0, 0]\n"
     ]
    }
   ],
   "source": [
    "p = [1, 2, 9]\n",
    "for i in range(len(digits)-1, -1, -1):\n",
    "    if p[i] != 9:\n",
    "        p[i] += 1\n",
    "        print(p)\n",
    "    p[i] = 0\n",
    "print([1]+ p)"
   ]
  },
  {
   "cell_type": "code",
   "execution_count": null,
   "metadata": {},
   "outputs": [],
   "source": []
  }
 ],
 "metadata": {
  "kernelspec": {
   "display_name": "Python 3",
   "language": "python",
   "name": "python3"
  },
  "language_info": {
   "codemirror_mode": {
    "name": "ipython",
    "version": 3
   },
   "file_extension": ".py",
   "mimetype": "text/x-python",
   "name": "python",
   "nbconvert_exporter": "python",
   "pygments_lexer": "ipython3",
   "version": "3.6.5"
  }
 },
 "nbformat": 4,
 "nbformat_minor": 2
}
