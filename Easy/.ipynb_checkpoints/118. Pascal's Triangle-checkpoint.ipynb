{
 "cells": [
  {
   "cell_type": "markdown",
   "metadata": {},
   "source": [
    "### 题目要求：\n",
    "### Input: 5\n",
    "### Output:\n",
    "```\n",
    "[\n",
    "     [1],\n",
    "    [1,1],\n",
    "   [1,2,1],\n",
    "  [1,3,3,1],\n",
    " [1,4,6,4,1]\n",
    "]\n",
    "```"
   ]
  },
  {
   "cell_type": "code",
   "execution_count": 24,
   "metadata": {},
   "outputs": [],
   "source": [
    "def generate(numRows):\n",
    "    if numRows <= 0 :\n",
    "        return []\n",
    "    prev = [1]\n",
    "    ans = []\n",
    "    ans.append(prev)\n",
    "    for i in range(2, numRows+1):\n",
    "        prev = generate_row(prev, i)\n",
    "        ans.append(prev)\n",
    "    return ans\n",
    "\n",
    "def generate_row(prev, idx):\n",
    "    res = [1] * idx\n",
    "    for i in range(1, idx - 1):\n",
    "        res[i] = prev[i] + prev[i - 1]\n",
    "    return res"
   ]
  },
  {
   "cell_type": "code",
   "execution_count": 39,
   "metadata": {},
   "outputs": [
    {
     "data": {
      "text/plain": [
       "[[1], [1, 1], [1, 2, 1], [1, 3, 3, 1], [1, 4, 6, 4, 1]]"
      ]
     },
     "execution_count": 39,
     "metadata": {},
     "output_type": "execute_result"
    }
   ],
   "source": [
    "numRows = 5\n",
    "ans = generate(numRows)\n",
    "ans"
   ]
  },
  {
   "cell_type": "code",
   "execution_count": 38,
   "metadata": {},
   "outputs": [],
   "source": [
    "def generate(numRows):\n",
    "    if numRows <= 0:\n",
    "        return []\n",
    "    res = [[1]]\n",
    "    for numRow in range(1, numRows):\n",
    "        tmp = [1, 1]\n",
    "        for i in range(1, numRow):\n",
    "            tmp.insert(i, res[numRow-1][i] + res[numRow-1][i-1])\n",
    "        res.append(tmp)\n",
    "    return res"
   ]
  },
  {
   "cell_type": "code",
   "execution_count": null,
   "metadata": {},
   "outputs": [],
   "source": []
  }
 ],
 "metadata": {
  "kernelspec": {
   "display_name": "Python 3",
   "language": "python",
   "name": "python3"
  },
  "language_info": {
   "codemirror_mode": {
    "name": "ipython",
    "version": 3
   },
   "file_extension": ".py",
   "mimetype": "text/x-python",
   "name": "python",
   "nbconvert_exporter": "python",
   "pygments_lexer": "ipython3",
   "version": "3.6.5"
  }
 },
 "nbformat": 4,
 "nbformat_minor": 2
}
