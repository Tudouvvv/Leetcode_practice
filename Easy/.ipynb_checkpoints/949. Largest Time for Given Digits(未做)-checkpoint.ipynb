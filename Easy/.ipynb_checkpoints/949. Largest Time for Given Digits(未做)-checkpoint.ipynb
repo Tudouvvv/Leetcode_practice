{
 "cells": [
  {
   "cell_type": "markdown",
   "metadata": {},
   "source": [
    "### 输入四个数字，输出这四个数字组合得到的最大的时间\n",
    "\n",
    "### 最小的是00:00，最大的是23:59\n",
    "\n",
    "### 想法：因为每一位数字的范围都是固定的，所以一位一位的来找"
   ]
  },
  {
   "cell_type": "code",
   "execution_count": null,
   "metadata": {},
   "outputs": [],
   "source": [
    "def largestTimeFromDigits(self, A) -> str:\n",
    "    if len(A) != 4:\n",
    "        return None\n",
    "    "
   ]
  }
 ],
 "metadata": {
  "kernelspec": {
   "display_name": "Python 3",
   "language": "python",
   "name": "python3"
  },
  "language_info": {
   "codemirror_mode": {
    "name": "ipython",
    "version": 3
   },
   "file_extension": ".py",
   "mimetype": "text/x-python",
   "name": "python",
   "nbconvert_exporter": "python",
   "pygments_lexer": "ipython3",
   "version": "3.6.5"
  }
 },
 "nbformat": 4,
 "nbformat_minor": 2
}
