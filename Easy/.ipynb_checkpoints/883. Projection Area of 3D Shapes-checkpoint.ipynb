{
 "cells": [
  {
   "cell_type": "markdown",
   "metadata": {},
   "source": [
    "### 目的：求主视图，俯视图，左视图的面积\n",
    "### 俯视图，就是非0元素的个数\n",
    "### 主视图和左视图都是这一维元素上的最大值的和"
   ]
  },
  {
   "cell_type": "code",
   "execution_count": 24,
   "metadata": {},
   "outputs": [],
   "source": [
    "def projectionArea(grid) -> int:\n",
    "    top, front, left = (0, 0, 0)\n",
    "    for i in range(len(grid)):\n",
    "        left_num = 0\n",
    "        front += max(grid[i])\n",
    "        for j in range(len(grid[0])):\n",
    "            if grid[i][j] > 0:\n",
    "                top += 1\n",
    "            left_num = max(left_num, grid[j][i])\n",
    "        left += left_num\n",
    "    return top + front + left"
   ]
  },
  {
   "cell_type": "code",
   "execution_count": 25,
   "metadata": {},
   "outputs": [
    {
     "data": {
      "text/plain": [
       "17"
      ]
     },
     "execution_count": 25,
     "metadata": {},
     "output_type": "execute_result"
    }
   ],
   "source": [
    "grid = [[1, 2], [3, 4]]\n",
    "# grid[0][0]\n",
    "ans = projectionArea(grid)\n",
    "ans"
   ]
  },
  {
   "cell_type": "code",
   "execution_count": 17,
   "metadata": {},
   "outputs": [],
   "source": [
    "# 第一名的解法\n",
    "def projectionArea(grid) -> int:\n",
    "    top = sum([v!=0 for row in grid for v in row])\n",
    "    front = sum([max(row) for row in grid])\n",
    "    side = []\n",
    "    for i in range(len(grid[0])):\n",
    "        col = [row[i] for row in grid]\n",
    "        side.append(max(col))\n",
    "    return top + front + sum(side)"
   ]
  }
 ],
 "metadata": {
  "kernelspec": {
   "display_name": "Python 3",
   "language": "python",
   "name": "python3"
  },
  "language_info": {
   "codemirror_mode": {
    "name": "ipython",
    "version": 3
   },
   "file_extension": ".py",
   "mimetype": "text/x-python",
   "name": "python",
   "nbconvert_exporter": "python",
   "pygments_lexer": "ipython3",
   "version": "3.6.5"
  }
 },
 "nbformat": 4,
 "nbformat_minor": 2
}
