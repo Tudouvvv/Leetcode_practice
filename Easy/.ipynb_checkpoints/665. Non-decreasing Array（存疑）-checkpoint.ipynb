{
 "cells": [
  {
   "cell_type": "markdown",
   "metadata": {},
   "source": [
    "### 题目要求：给你一个数组，可否改变最多一个数字使得它变得有序\n",
    "\n",
    "### 想法：写个for循环进行遍历？"
   ]
  },
  {
   "cell_type": "code",
   "execution_count": 39,
   "metadata": {},
   "outputs": [],
   "source": [
    "def checkPossibility(nums) -> bool:\n",
    "    count = 0\n",
    "    place = 0\n",
    "    for i in range(len(nums)-1):\n",
    "        if nums[i] > nums[i + 1]:\n",
    "            count += 1\n",
    "            place = i + 1\n",
    "    if count == 0:\n",
    "        return True\n",
    "    elif count > 1:\n",
    "        return False\n",
    "    else:\n",
    "        if place == 1 or place == len(nums)-1:\n",
    "            return True\n",
    "        else:\n",
    "            return ((nums[place-1] <= nums[place+1]) or (nums[place-2] <= nums[place]))"
   ]
  },
  {
   "cell_type": "raw",
   "metadata": {},
   "source": [
    "nums = [4, 2, 1]\n",
    "ans = checkPossibility(nums)\n",
    "ans"
   ]
  },
  {
   "cell_type": "code",
   "execution_count": null,
   "metadata": {},
   "outputs": [],
   "source": []
  }
 ],
 "metadata": {
  "kernelspec": {
   "display_name": "Python 3",
   "language": "python",
   "name": "python3"
  },
  "language_info": {
   "codemirror_mode": {
    "name": "ipython",
    "version": 3
   },
   "file_extension": ".py",
   "mimetype": "text/x-python",
   "name": "python",
   "nbconvert_exporter": "python",
   "pygments_lexer": "ipython3",
   "version": "3.6.5"
  }
 },
 "nbformat": 4,
 "nbformat_minor": 2
}
