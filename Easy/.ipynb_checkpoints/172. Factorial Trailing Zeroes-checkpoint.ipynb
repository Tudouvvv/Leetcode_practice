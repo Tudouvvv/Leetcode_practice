{
 "cells": [
  {
   "cell_type": "markdown",
   "metadata": {},
   "source": [
    "### 思路：先计算出n的阶乘，然后统计0的个数"
   ]
  },
  {
   "cell_type": "code",
   "execution_count": 37,
   "metadata": {},
   "outputs": [],
   "source": [
    "def trailingZeroes(n: int) -> int:\n",
    "    count, i = 0, 0\n",
    "    ans = 1\n",
    "    while n > 0:\n",
    "        ans *= n\n",
    "        n -= 1\n",
    "    while str(ans)[::-1][i] == '0':\n",
    "        count += 1\n",
    "        i += 1\n",
    "    return count"
   ]
  },
  {
   "cell_type": "code",
   "execution_count": 63,
   "metadata": {},
   "outputs": [
    {
     "data": {
      "text/plain": [
       "14"
      ]
     },
     "execution_count": 63,
     "metadata": {},
     "output_type": "execute_result"
    }
   ],
   "source": [
    "n = 60\n",
    "ans = trailingZeroes(n)\n",
    "ans"
   ]
  },
  {
   "cell_type": "markdown",
   "metadata": {},
   "source": [
    "### 后来发现上面这种解法超出时间限制了   因为用了两个循环   \n",
    "\n",
    "### 去看别人的解法   发现 /5  就可以知道尾部有几个0 = ="
   ]
  },
  {
   "cell_type": "code",
   "execution_count": 60,
   "metadata": {},
   "outputs": [],
   "source": [
    "def trailingZeroes(n):\n",
    "        count = 0\n",
    "        while n > 0:\n",
    "            n = n // 5\n",
    "            count += n\n",
    "        \n",
    "        return count\n",
    "#     return 0 if n == 0 else n // 5 + trailingZeroes(n // 5)"
   ]
  },
  {
   "cell_type": "code",
   "execution_count": null,
   "metadata": {},
   "outputs": [],
   "source": []
  }
 ],
 "metadata": {
  "kernelspec": {
   "display_name": "Python 3",
   "language": "python",
   "name": "python3"
  },
  "language_info": {
   "codemirror_mode": {
    "name": "ipython",
    "version": 3
   },
   "file_extension": ".py",
   "mimetype": "text/x-python",
   "name": "python",
   "nbconvert_exporter": "python",
   "pygments_lexer": "ipython3",
   "version": "3.6.5"
  }
 },
 "nbformat": 4,
 "nbformat_minor": 2
}
