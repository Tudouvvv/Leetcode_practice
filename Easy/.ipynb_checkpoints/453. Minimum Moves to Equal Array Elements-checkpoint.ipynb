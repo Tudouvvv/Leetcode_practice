{
 "cells": [
  {
   "cell_type": "markdown",
   "metadata": {},
   "source": [
    "### 假设数组为 a1，a2，a3，……，an，不妨假设a1<a2<a3<……<an。首先，将a1移到与a2相等，需要移动a2-a1步，序列变成a2，a2，a3+a2-a1，……，an+a2-a1。继续将a2移到与a3相等，需要移动 （a3+a2-a1）- a2 = a3-a1步，此时，序列变成a3+a2-a1，a3+a2-a1，a3+a2-a1，……an+a2-a1+a3-a1。如此往复下去，最后，将前n-1个数移动an-a1步，即将所有数字变成相等。即每一次移动，都需要移当前数字与最小数字相减的步数。"
   ]
  },
  {
   "cell_type": "code",
   "execution_count": 5,
   "metadata": {},
   "outputs": [],
   "source": [
    "def minMoves(nums) -> int:\n",
    "    min_num = min(nums)\n",
    "    count = 0\n",
    "    for i in nums:\n",
    "        count += i - min_num\n",
    "    return count"
   ]
  },
  {
   "cell_type": "code",
   "execution_count": 8,
   "metadata": {},
   "outputs": [
    {
     "data": {
      "text/plain": [
       "3"
      ]
     },
     "execution_count": 8,
     "metadata": {},
     "output_type": "execute_result"
    }
   ],
   "source": [
    "nums = [1, 2, 3]\n",
    "ans = minMoves(nums)\n",
    "ans"
   ]
  },
  {
   "cell_type": "code",
   "execution_count": 7,
   "metadata": {},
   "outputs": [],
   "source": [
    "def minMoves(nums) -> int:\n",
    "    return sum(nums) - min(nums) * len(nums)"
   ]
  },
  {
   "cell_type": "code",
   "execution_count": null,
   "metadata": {},
   "outputs": [],
   "source": []
  }
 ],
 "metadata": {
  "kernelspec": {
   "display_name": "Python 3",
   "language": "python",
   "name": "python3"
  },
  "language_info": {
   "codemirror_mode": {
    "name": "ipython",
    "version": 3
   },
   "file_extension": ".py",
   "mimetype": "text/x-python",
   "name": "python",
   "nbconvert_exporter": "python",
   "pygments_lexer": "ipython3",
   "version": "3.6.5"
  }
 },
 "nbformat": 4,
 "nbformat_minor": 2
}
