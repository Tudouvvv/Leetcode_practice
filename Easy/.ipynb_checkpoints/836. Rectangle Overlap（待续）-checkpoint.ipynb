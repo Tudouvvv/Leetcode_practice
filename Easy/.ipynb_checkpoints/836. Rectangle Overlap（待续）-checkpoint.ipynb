{
 "cells": [
  {
   "cell_type": "markdown",
   "metadata": {},
   "source": [
    "### 给四个点的坐标，分别是两个长方形左下角和右上角点的坐标，查看两个长方形是否重叠"
   ]
  },
  {
   "cell_type": "code",
   "execution_count": 4,
   "metadata": {},
   "outputs": [],
   "source": [
    "def isRectangleOverlap(rec1, rec2) -> bool:\n",
    "    if rec1[0] > rec2[0] and rec1[1] > rec2[1]:\n",
    "        if rec1[0] < rec2[2] and  rec1[1] < rec2[3]:\n",
    "            return True\n",
    "    elif rec2[0] > rec1[0] and rec2[1] > rec1[1]:\n",
    "        if rec2[0] < rec1[2] and  rec2[1] < rec1[3]:\n",
    "            return True\n",
    "    else:\n",
    "        return False"
   ]
  },
  {
   "cell_type": "code",
   "execution_count": 6,
   "metadata": {},
   "outputs": [
    {
     "data": {
      "text/plain": [
       "False"
      ]
     },
     "execution_count": 6,
     "metadata": {},
     "output_type": "execute_result"
    }
   ],
   "source": [
    "# rec1 = [0,0,2,2]\n",
    "# rec2 = [1,1,3,3]\n",
    "rec1 = [0,0,1,1]\n",
    "rec2 = [1,0,2,1]\n",
    "ans = isRectangleOverlap(rec1, rec2)\n",
    "ans"
   ]
  },
  {
   "cell_type": "code",
   "execution_count": null,
   "metadata": {},
   "outputs": [],
   "source": []
  }
 ],
 "metadata": {
  "kernelspec": {
   "display_name": "Python 3",
   "language": "python",
   "name": "python3"
  },
  "language_info": {
   "codemirror_mode": {
    "name": "ipython",
    "version": 3
   },
   "file_extension": ".py",
   "mimetype": "text/x-python",
   "name": "python",
   "nbconvert_exporter": "python",
   "pygments_lexer": "ipython3",
   "version": "3.6.5"
  }
 },
 "nbformat": 4,
 "nbformat_minor": 2
}
