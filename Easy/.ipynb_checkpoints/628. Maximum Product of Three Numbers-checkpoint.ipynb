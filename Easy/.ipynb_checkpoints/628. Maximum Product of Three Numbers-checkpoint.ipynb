{
 "cells": [
  {
   "cell_type": "markdown",
   "metadata": {},
   "source": [
    "### 给一个数列，返回最大三个数的乘积"
   ]
  },
  {
   "cell_type": "code",
   "execution_count": 16,
   "metadata": {},
   "outputs": [],
   "source": [
    "def maximumProduct(nums) -> int:\n",
    "    if not nums or len(nums) < 3:\n",
    "        return False\n",
    "    if min(nums) < -1000 or max(nums) > 1000:\n",
    "        return False\n",
    "    if min(nums) > 0 or max(nums)< 0:\n",
    "        a1 = max(nums)\n",
    "        nums.remove(a1)\n",
    "        a2 = max(nums)\n",
    "        nums.remove(a2)\n",
    "        a3 = max(nums)\n",
    "        nums.remove(a3)\n",
    "        return a1 * a2 * a3\n",
    "\n",
    "# 情况太多，感觉不太可行"
   ]
  },
  {
   "cell_type": "code",
   "execution_count": 23,
   "metadata": {},
   "outputs": [],
   "source": [
    "def maximumProduct(nums) -> int:\n",
    "    a = max(nums)\n",
    "    nums.remove(a)\n",
    "    b = max(nums)\n",
    "    nums.remove(b)\n",
    "    c = max(nums)\n",
    "    nums.remove(c)\n",
    "    if len(nums)>=2:\n",
    "        d = min(nums)\n",
    "        nums.remove(d)\n",
    "        e = min(nums)\n",
    "        if d<0 and e<0:\n",
    "            A = a*b*c\n",
    "            B = a*d*e\n",
    "            return max(A,B)\n",
    "        else:\n",
    "            return a*b*c\n",
    "    elif nums:\n",
    "        d = min(nums)\n",
    "        A = a * b * c\n",
    "        B = a * c * d\n",
    "        return max(A,B)\n",
    "    else:\n",
    "        return a*b*c\n",
    "#     nums.sort()\n",
    "#     return max(nums[-1]*nums[-2]*nums[-3],nums[0]*nums[1]*nums[-1])"
   ]
  },
  {
   "cell_type": "code",
   "execution_count": 24,
   "metadata": {},
   "outputs": [
    {
     "data": {
      "text/plain": [
       "2000"
      ]
     },
     "execution_count": 24,
     "metadata": {},
     "output_type": "execute_result"
    }
   ],
   "source": [
    "nums = [-1000, -1, -2, 1]\n",
    "ans = maximumProduct(nums)\n",
    "ans"
   ]
  },
  {
   "cell_type": "code",
   "execution_count": 2,
   "metadata": {},
   "outputs": [],
   "source": [
    "import heapq\n",
    "def maximumProduct(nums) -> int:\n",
    "    a, b = heapq.nlargest(3, nums), heapq.nsmallest(2, nums)\n",
    "    return max(a[0] * a[1] * a[2], a[0] * b[0] * b[1])"
   ]
  },
  {
   "cell_type": "code",
   "execution_count": null,
   "metadata": {},
   "outputs": [],
   "source": []
  }
 ],
 "metadata": {
  "kernelspec": {
   "display_name": "Python 3",
   "language": "python",
   "name": "python3"
  },
  "language_info": {
   "codemirror_mode": {
    "name": "ipython",
    "version": 3
   },
   "file_extension": ".py",
   "mimetype": "text/x-python",
   "name": "python",
   "nbconvert_exporter": "python",
   "pygments_lexer": "ipython3",
   "version": "3.6.5"
  }
 },
 "nbformat": 4,
 "nbformat_minor": 2
}
