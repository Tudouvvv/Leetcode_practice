{
 "cells": [
  {
   "cell_type": "markdown",
   "metadata": {},
   "source": [
    "### 题目要求：判断一个矩阵是否是托普利兹矩阵，即：对角线上的元素是否是一致的\n",
    "\n",
    "matrix = [\n",
    "  [1,2,3,4],\n",
    "  [5,1,2,3],\n",
    "  [9,5,1,2]\n",
    "]\n",
    "\n",
    "### 第一行是1，2，3 ，4，第二行是5，1，2，3，第三行是9，5，1，2，所以只需要判断后一行的三个数是否与前一行的前三个数一致即可"
   ]
  },
  {
   "cell_type": "code",
   "execution_count": 35,
   "metadata": {},
   "outputs": [],
   "source": [
    "def isToeplitzMatrix(matrix) -> bool:\n",
    "    if len(matrix[0]) == 1:\n",
    "        return True\n",
    "    length = len(matrix[0]) - 1\n",
    "    p = matrix[0]\n",
    "    for i in range(1, len(matrix)):\n",
    "        if matrix[i][-length:] == p[0:length]:\n",
    "            print(matrix)\n",
    "            p = matrix[i]\n",
    "        else:\n",
    "            return False\n",
    "    return True\n",
    "\n",
    "# 60ms\n",
    "# 改进\n",
    "# def isToeplitzMatrix(m):\n",
    "#     return all(r1[:-1] == r2[1:] for r1,r2 in zip(m, m[1:]))"
   ]
  },
  {
   "cell_type": "code",
   "execution_count": 36,
   "metadata": {},
   "outputs": [],
   "source": [
    "def isToeplitzMatrix(matrix) -> bool:\n",
    "    for i in range(len(matrix)-1):\n",
    "        for j in range(len(matrix[0]) - 1):\n",
    "            if matrix[i][j] != matrix[i+1][j+1]:\n",
    "                return False\n",
    "    return True"
   ]
  },
  {
   "cell_type": "code",
   "execution_count": 37,
   "metadata": {},
   "outputs": [
    {
     "data": {
      "text/plain": [
       "False"
      ]
     },
     "execution_count": 37,
     "metadata": {},
     "output_type": "execute_result"
    }
   ],
   "source": [
    "# matrix = [\n",
    "#   [1,2,3,4],\n",
    "#   [5,1,2,3],\n",
    "#   [9,5,1,2]\n",
    "# ]\n",
    "matrix = [\n",
    "  [1,2],\n",
    "  [2,2]\n",
    "]\n",
    "ans = isToeplitzMatrix(matrix)\n",
    "ans"
   ]
  },
  {
   "cell_type": "code",
   "execution_count": null,
   "metadata": {},
   "outputs": [],
   "source": []
  },
  {
   "cell_type": "code",
   "execution_count": null,
   "metadata": {},
   "outputs": [],
   "source": []
  }
 ],
 "metadata": {
  "kernelspec": {
   "display_name": "Python 3",
   "language": "python",
   "name": "python3"
  },
  "language_info": {
   "codemirror_mode": {
    "name": "ipython",
    "version": 3
   },
   "file_extension": ".py",
   "mimetype": "text/x-python",
   "name": "python",
   "nbconvert_exporter": "python",
   "pygments_lexer": "ipython3",
   "version": "3.6.5"
  }
 },
 "nbformat": 4,
 "nbformat_minor": 2
}
