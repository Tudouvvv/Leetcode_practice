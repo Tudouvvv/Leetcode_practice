{
 "cells": [
  {
   "cell_type": "markdown",
   "metadata": {},
   "source": [
    "#### 这道题的要求是 ！！！找到字符串中最大的子串而不是子序列\n",
    "#### 子串即原序列中连在一起的字符串，而子序列是原序列中所有字母的集合"
   ]
  },
  {
   "cell_type": "code",
   "execution_count": 36,
   "metadata": {},
   "outputs": [],
   "source": [
    "def lengthOfLongestSubstring(s: str) -> int:\n",
    "    count = []\n",
    "    if not s:\n",
    "        return 0\n",
    "    for i in range(len(s) - 1):\n",
    "        if s[i] != s[i+1]:\n",
    "            if s[i] not in count:\n",
    "                count.append(s[i])\n",
    "        else:\n",
    "            if not count:\n",
    "                count.append(s[i])\n",
    "            else:\n",
    "                if (i + 1) < len(s) - 1:\n",
    "                    count.pop()\n",
    "                    count.append(s[i])\n",
    "                else:\n",
    "                    count.append(s[i])\n",
    "    if s[len(s) - 1] not in count:\n",
    "        count.append(s[len(s) - 1])\n",
    "    return len(count)"
   ]
  },
  {
   "cell_type": "code",
   "execution_count": 40,
   "metadata": {},
   "outputs": [
    {
     "data": {
      "text/plain": [
       "4"
      ]
     },
     "execution_count": 40,
     "metadata": {},
     "output_type": "execute_result"
    }
   ],
   "source": [
    "s = 'abcabcbb'\n",
    "ans = lengthOfLongestSubstring(s)\n",
    "ans"
   ]
  },
  {
   "cell_type": "code",
   "execution_count": null,
   "metadata": {},
   "outputs": [],
   "source": []
  }
 ],
 "metadata": {
  "kernelspec": {
   "display_name": "Python 3",
   "language": "python",
   "name": "python3"
  },
  "language_info": {
   "codemirror_mode": {
    "name": "ipython",
    "version": 3
   },
   "file_extension": ".py",
   "mimetype": "text/x-python",
   "name": "python",
   "nbconvert_exporter": "python",
   "pygments_lexer": "ipython3",
   "version": "3.6.5"
  }
 },
 "nbformat": 4,
 "nbformat_minor": 2
}
