{
 "cells": [
  {
   "cell_type": "markdown",
   "metadata": {},
   "source": [
    "### 题目要求：数组中每个元素都有自己的度，度就是出现的次数，~~找出次数最多的元素，返回它们的和；如果两个元素出现的次数一样多，找和最小的~~，找出度最多的元素的最小长度\n",
    "\n",
    "### [1, 2, 2, 3, 1]中度为2的元素有1和2，但是两个2之间的长度最小，返回2\n",
    "\n",
    "### [1,2,2,3,1,4,2]中度最多的元素为2，第一个2和最后一个2之间的长度为6，返回6\n",
    "\n",
    "### 遇到的问题：没有考虑key==0的情况"
   ]
  },
  {
   "cell_type": "code",
   "execution_count": 25,
   "metadata": {},
   "outputs": [],
   "source": [
    "def findShortestSubArray(nums) -> int:\n",
    "    nums_new = set(nums)\n",
    "    dicts = {}\n",
    "    min_degree = float('inf')\n",
    "    for num in nums_new:\n",
    "        dicts[num] = nums.count(num)\n",
    "    degree = max(dicts.values())\n",
    "    for key in dicts:\n",
    "        if dicts[key] == degree:\n",
    "            if key == 0:\n",
    "                return dicts[0]\n",
    "            min_degree = min(min_degree, key * dicts[key])\n",
    "    return min_degree"
   ]
  },
  {
   "cell_type": "code",
   "execution_count": 14,
   "metadata": {},
   "outputs": [],
   "source": [
    "def findShortestSubArray(nums) -> int:\n",
    "    nums_set = set(nums)\n",
    "    counts = {}\n",
    "    for num in nums_set:\n",
    "        counts[num] = nums.count(num)\n",
    "    degree = max(counts.values())\n",
    "    left, right = {}, {}\n",
    "    ret = len(nums)\n",
    "    for i, v in enumerate(nums):\n",
    "        if v not in left.keys():\n",
    "            left[v] = i\n",
    "        right[v] = i\n",
    "    for k, v in counts.items():\n",
    "        if v == degree:\n",
    "            ret = min(right[k] - left[k] + 1, ret)\n",
    "    return ret\n",
    "\n",
    "# 148ms"
   ]
  },
  {
   "cell_type": "code",
   "execution_count": 21,
   "metadata": {},
   "outputs": [],
   "source": [
    "def findShortestSubArray(nums) -> int:\n",
    "    left, right, counts = {}, {}, {}\n",
    "    ret = len(nums)\n",
    "    for i, v in enumerate(nums):\n",
    "        if v not in left.keys():\n",
    "            left[v] = i\n",
    "        right[v] = i\n",
    "        counts[v] = counts.get(v, 0) + 1\n",
    "    degree = max(counts.values())\n",
    "    for k, v in counts.items():\n",
    "        if v == degree:\n",
    "            ret = min(right[k] - left[k] + 1, ret)\n",
    "    return ret\n",
    "\n",
    "# 92ms"
   ]
  },
  {
   "cell_type": "code",
   "execution_count": 29,
   "metadata": {},
   "outputs": [],
   "source": [
    "def findShortestSubArray(nums) -> int:\n",
    "    if len(nums) == len(set(nums)):\n",
    "        return 1\n",
    "    from collections import Counter\n",
    "    nums_count = Counter(nums)\n",
    "    degree = max(nums_count.values())\n",
    "    maxFreqEle = []\n",
    "    for key in nums_count.keys():\n",
    "        if nums_count[key] == degree:\n",
    "            maxFreqEle.append(key)\n",
    "    right = len(nums) - 1\n",
    "    ret = right + 1\n",
    "    for x in maxFreqEle:\n",
    "        start = nums.index(x)\n",
    "        for i in range(right, -1, -1):\n",
    "            if nums[i] == x:\n",
    "                end = i\n",
    "                break\n",
    "        ret = min(end - start + 1, ret)\n",
    "    return ret\n",
    "\n",
    "# 52ms"
   ]
  },
  {
   "cell_type": "code",
   "execution_count": 30,
   "metadata": {},
   "outputs": [
    {
     "data": {
      "text/plain": [
       "6"
      ]
     },
     "execution_count": 30,
     "metadata": {},
     "output_type": "execute_result"
    }
   ],
   "source": [
    "nums = [1,2,2,3,1,4,2]\n",
    "ans = findShortestSubArray(nums)\n",
    "ans"
   ]
  },
  {
   "cell_type": "code",
   "execution_count": 26,
   "metadata": {},
   "outputs": [
    {
     "data": {
      "text/plain": [
       "3"
      ]
     },
     "execution_count": 26,
     "metadata": {},
     "output_type": "execute_result"
    }
   ],
   "source": [
    "from collections import Counter \n",
    "nums = [1,2,2,3,1,4,2]\n",
    "numsCounter = Counter(nums)\n",
    "degree = max(numsCounter.values())\n",
    "degree"
   ]
  },
  {
   "cell_type": "code",
   "execution_count": null,
   "metadata": {},
   "outputs": [],
   "source": []
  }
 ],
 "metadata": {
  "kernelspec": {
   "display_name": "Python 3",
   "language": "python",
   "name": "python3"
  },
  "language_info": {
   "codemirror_mode": {
    "name": "ipython",
    "version": 3
   },
   "file_extension": ".py",
   "mimetype": "text/x-python",
   "name": "python",
   "nbconvert_exporter": "python",
   "pygments_lexer": "ipython3",
   "version": "3.6.5"
  }
 },
 "nbformat": 4,
 "nbformat_minor": 2
}
