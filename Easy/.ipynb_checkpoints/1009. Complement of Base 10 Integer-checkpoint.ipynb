{
 "cells": [
  {
   "cell_type": "markdown",
   "metadata": {},
   "source": [
    "### 题目要求：输入一个数，变为二进制以后，反转即0-->1，1->0，然后再转为十进制，问这个数是什么\n",
    "\n",
    "### 然后做到中途发现：尼玛这两个加起来不就是全1嘛，只要找到这个全1代表的数就行了啊，然后这个全1代表的数不就是2**n - 1"
   ]
  },
  {
   "cell_type": "code",
   "execution_count": 98,
   "metadata": {},
   "outputs": [],
   "source": [
    "def bitwiseComplement(N: int) -> int:\n",
    "    p = []\n",
    "    for char in bin(N)[2:]:\n",
    "        if char == \"0\":\n",
    "            p.append(\"1\")\n",
    "        if char == \"1\":\n",
    "            p.append(\"0\") \n",
    "    return int(\"\".join(p), 2)"
   ]
  },
  {
   "cell_type": "code",
   "execution_count": 105,
   "metadata": {},
   "outputs": [],
   "source": [
    "def bitwiseComplement(N: int) -> int:\n",
    "    X = 1\n",
    "    while N > X: \n",
    "        X = X * 2 + 1\n",
    "    return X ^ N"
   ]
  },
  {
   "cell_type": "code",
   "execution_count": 108,
   "metadata": {},
   "outputs": [
    {
     "data": {
      "text/plain": [
       "1"
      ]
     },
     "execution_count": 108,
     "metadata": {},
     "output_type": "execute_result"
    }
   ],
   "source": [
    "N = 0\n",
    "ans = bitwiseComplement(N)\n",
    "# ans.split(',')\n",
    "ans"
   ]
  },
  {
   "cell_type": "code",
   "execution_count": 104,
   "metadata": {},
   "outputs": [
    {
     "name": "stdout",
     "output_type": "stream",
     "text": [
      "101\n",
      "5\n"
     ]
    }
   ],
   "source": [
    "strs = ['1', '0', '1']\n",
    "print(\"\".join(strs))\n",
    "print(int(\"\".join(strs), 2))"
   ]
  },
  {
   "cell_type": "code",
   "execution_count": null,
   "metadata": {},
   "outputs": [],
   "source": []
  },
  {
   "cell_type": "code",
   "execution_count": null,
   "metadata": {},
   "outputs": [],
   "source": []
  }
 ],
 "metadata": {
  "kernelspec": {
   "display_name": "Python 3",
   "language": "python",
   "name": "python3"
  },
  "language_info": {
   "codemirror_mode": {
    "name": "ipython",
    "version": 3
   },
   "file_extension": ".py",
   "mimetype": "text/x-python",
   "name": "python",
   "nbconvert_exporter": "python",
   "pygments_lexer": "ipython3",
   "version": "3.6.5"
  }
 },
 "nbformat": 4,
 "nbformat_minor": 2
}
