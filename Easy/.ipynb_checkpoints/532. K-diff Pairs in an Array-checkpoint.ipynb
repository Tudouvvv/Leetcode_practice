{
 "cells": [
  {
   "cell_type": "markdown",
   "metadata": {},
   "source": [
    "###  题目要求：输入一个数组，和一个整数k，求出差为k的数组的对数，并且此对数唯一"
   ]
  },
  {
   "cell_type": "code",
   "execution_count": 88,
   "metadata": {},
   "outputs": [],
   "source": [
    "def findPairs(nums,k: int) -> int:\n",
    "    count = 0\n",
    "    list_nums = set(nums)\n",
    "    if k == 0:\n",
    "        \n",
    "        for each in list_nums:\n",
    "            if nums.count(each)>1:\n",
    "                count+=1\n",
    "        return count\n",
    "    if k < 0:\n",
    "        return 0\n",
    "    nums_n = nums.copy()\n",
    "    ans = []\n",
    "    for num in nums_n:\n",
    "        nums_n.remove(num)\n",
    "        if (num-k) in nums_n:\n",
    "            ans.append((num-k, num))\n",
    "            nums_n = nums.copy()\n",
    "        if (num+k) in nums_n:\n",
    "            ans.append((num, num +k))\n",
    "            nums_n = nums.copy()\n",
    "    return len(set(ans))\n",
    "\n",
    "# k = 0的情况不知道该怎么做，看了别人的k==0的处理情况，然后超时了"
   ]
  },
  {
   "cell_type": "code",
   "execution_count": 1,
   "metadata": {},
   "outputs": [],
   "source": [
    "def findPairs(nums, k):\n",
    "    count=0\n",
    "    list_nums = set(nums)\n",
    "    if k == 0:\n",
    "        for num in list_nums:\n",
    "            if nums.count(num)>1:\n",
    "                count+=1\n",
    "        return count\n",
    "    elif k < 0:\n",
    "        return 0\n",
    "    elif k > 0:\n",
    "        for i in list_nums:\n",
    "            if i+k in list_nums:\n",
    "                count+=1\n",
    "    return count"
   ]
  },
  {
   "cell_type": "code",
   "execution_count": 2,
   "metadata": {},
   "outputs": [
    {
     "data": {
      "text/plain": [
       "1"
      ]
     },
     "execution_count": 2,
     "metadata": {},
     "output_type": "execute_result"
    }
   ],
   "source": [
    "nums = [3,1,4,1,5]\n",
    "k = 0\n",
    "ans = findPairs(nums, k)\n",
    "ans"
   ]
  },
  {
   "cell_type": "code",
   "execution_count": null,
   "metadata": {},
   "outputs": [],
   "source": []
  },
  {
   "cell_type": "code",
   "execution_count": null,
   "metadata": {},
   "outputs": [],
   "source": []
  },
  {
   "cell_type": "code",
   "execution_count": null,
   "metadata": {},
   "outputs": [],
   "source": []
  }
 ],
 "metadata": {
  "kernelspec": {
   "display_name": "Python 3",
   "language": "python",
   "name": "python3"
  },
  "language_info": {
   "codemirror_mode": {
    "name": "ipython",
    "version": 3
   },
   "file_extension": ".py",
   "mimetype": "text/x-python",
   "name": "python",
   "nbconvert_exporter": "python",
   "pygments_lexer": "ipython3",
   "version": "3.6.5"
  }
 },
 "nbformat": 4,
 "nbformat_minor": 2
}
