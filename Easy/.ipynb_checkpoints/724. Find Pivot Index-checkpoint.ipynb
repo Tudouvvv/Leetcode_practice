{
 "cells": [
  {
   "cell_type": "markdown",
   "metadata": {},
   "source": [
    "### 题目要求：找到数组中的pivot数的索引，pivot数的定义是它左边数字的和与右边数字的和相等，如果存在多个pivot数，那么返回最左边的就可以，如果不存在，则返回-1\n",
    "\n",
    "### 想法：一个一个的试，但是感觉复杂度有些高，之前没有考虑负数的情况。tle了"
   ]
  },
  {
   "cell_type": "code",
   "execution_count": 20,
   "metadata": {},
   "outputs": [],
   "source": [
    "def pivotIndex(nums) -> int:\n",
    "    if len(nums) < 3:\n",
    "        return -1\n",
    "    ans = -1\n",
    "    nums.append(0)\n",
    "    for i in range(0, len(nums)-1):\n",
    "        if sum(nums[0:i]) == sum(nums[i+1:]):\n",
    "            ans = i\n",
    "            break\n",
    "    return ans\n",
    "# 没有考虑负数的情况 [-1,-1,-1,0,1,1]\n",
    "# TLE了\n",
    "# 其实与下面相比，想法都是一样的，但是多余的计算太多了，每次相加都得从头开始加，时间消耗太大"
   ]
  },
  {
   "cell_type": "code",
   "execution_count": 21,
   "metadata": {},
   "outputs": [],
   "source": [
    "def pivotIndex(nums) -> int:\n",
    "    left, right = 0, sum(nums)\n",
    "    for index, num in enumerate(nums):\n",
    "        right -= num\n",
    "        if left == right:\n",
    "            return index\n",
    "        else: left += num\n",
    "    return -1"
   ]
  },
  {
   "cell_type": "code",
   "execution_count": 22,
   "metadata": {},
   "outputs": [
    {
     "data": {
      "text/plain": [
       "-1"
      ]
     },
     "execution_count": 22,
     "metadata": {},
     "output_type": "execute_result"
    }
   ],
   "source": [
    "nums = [1,2,3]\n",
    "ans = pivotIndex(nums)\n",
    "ans"
   ]
  },
  {
   "cell_type": "code",
   "execution_count": null,
   "metadata": {},
   "outputs": [],
   "source": []
  },
  {
   "cell_type": "code",
   "execution_count": null,
   "metadata": {},
   "outputs": [],
   "source": []
  },
  {
   "cell_type": "code",
   "execution_count": null,
   "metadata": {},
   "outputs": [],
   "source": []
  }
 ],
 "metadata": {
  "kernelspec": {
   "display_name": "Python 3",
   "language": "python",
   "name": "python3"
  },
  "language_info": {
   "codemirror_mode": {
    "name": "ipython",
    "version": 3
   },
   "file_extension": ".py",
   "mimetype": "text/x-python",
   "name": "python",
   "nbconvert_exporter": "python",
   "pygments_lexer": "ipython3",
   "version": "3.6.5"
  }
 },
 "nbformat": 4,
 "nbformat_minor": 2
}
