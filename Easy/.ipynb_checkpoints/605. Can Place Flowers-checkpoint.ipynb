{
 "cells": [
  {
   "cell_type": "markdown",
   "metadata": {},
   "source": [
    "### 题目要求 :种花，给你一串二进制数，有花的地方是1，没有花的地方是0，两个1不能相邻，看是否可以再种n个花\n",
    "\n",
    "### 想法：把这串数按照1进行分割，得到所有的0的部分，失败！！！"
   ]
  },
  {
   "cell_type": "code",
   "execution_count": 10,
   "metadata": {},
   "outputs": [],
   "source": [
    "# 碰到连续的三个0就可以在在中间种一株花，在边缘位置的话可以补零|\n",
    "def canPlaceFlowers(flowerbed, n: int) -> bool:\n",
    "    if n == 0: return True\n",
    "    flowerbed = [0] + flowerbed + [0]\n",
    "    for i in range(1, len(flowerbed)-1):\n",
    "        if flowerbed[i-1] == flowerbed[i] == flowerbed[i+1] == 0:\n",
    "            flowerbed[i] = 1\n",
    "            n -= 1\n",
    "            if n == 0: return True\n",
    "    return False"
   ]
  },
  {
   "cell_type": "code",
   "execution_count": null,
   "metadata": {},
   "outputs": [],
   "source": []
  },
  {
   "cell_type": "code",
   "execution_count": null,
   "metadata": {},
   "outputs": [],
   "source": []
  },
  {
   "cell_type": "code",
   "execution_count": null,
   "metadata": {},
   "outputs": [],
   "source": []
  }
 ],
 "metadata": {
  "kernelspec": {
   "display_name": "Python 3",
   "language": "python",
   "name": "python3"
  },
  "language_info": {
   "codemirror_mode": {
    "name": "ipython",
    "version": 3
   },
   "file_extension": ".py",
   "mimetype": "text/x-python",
   "name": "python",
   "nbconvert_exporter": "python",
   "pygments_lexer": "ipython3",
   "version": "3.6.5"
  }
 },
 "nbformat": 4,
 "nbformat_minor": 2
}
