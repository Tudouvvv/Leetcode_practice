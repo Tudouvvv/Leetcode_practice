{
 "cells": [
  {
   "cell_type": "markdown",
   "metadata": {},
   "source": [
    "### 给定一个目标，从零出发，第几次移动，步长就是几，问到达目标数字需要几步"
   ]
  },
  {
   "cell_type": "code",
   "execution_count": 14,
   "metadata": {},
   "outputs": [],
   "source": [
    "# def reachNumber(target: int) -> int:\n",
    "#     count = 0\n",
    "#     i = 1\n",
    "#     pos = 0\n",
    "#     if target < 0:\n",
    "#         target = -1 * target\n",
    "#     while pos != target:\n",
    "#         if pos < target:\n",
    "#             pos = pos - i if pos + i > target else pos + i\n",
    "#             count += 1\n",
    "#         else:\n",
    "#             pos -= i\n",
    "#             count += 1\n",
    "#         i += 1\n",
    "#     return count\n",
    "\n",
    "#  失败"
   ]
  },
  {
   "cell_type": "code",
   "execution_count": 65,
   "metadata": {},
   "outputs": [],
   "source": [
    "# import math\n",
    "def reachNumber(target: int) -> int:\n",
    "    if target < 0:\n",
    "        target = -1 * target\n",
    "#     n = math.ceil(math.sqrt(2*target+0.25) - 0.5)\n",
    "    n = int((2*target+0.25)**0.5 - 0.5)\n",
    "    if 2 * target == n*(n+1):\n",
    "        return n\n",
    "    else: n += 1\n",
    "    res = n*(n+1)/ 2 - target\n",
    "    if res % 2 == 0: return n\n",
    "    else:\n",
    "        return n + 1 if n % 2 == 0 else n + 2"
   ]
  },
  {
   "cell_type": "code",
   "execution_count": 66,
   "metadata": {},
   "outputs": [
    {
     "data": {
      "text/plain": [
       "3"
      ]
     },
     "execution_count": 66,
     "metadata": {},
     "output_type": "execute_result"
    }
   ],
   "source": [
    "target = 4\n",
    "ans = reachNumber(target)\n",
    "ans"
   ]
  },
  {
   "cell_type": "markdown",
   "metadata": {},
   "source": [
    "理解这题的意思 这题就好做了\n",
    "分析 首先考虑一种比较极端的情况 即一直向正方向移动n步 ，刚好达到target \n",
    "那么target的值就等于前n步的和 ，也就是1+2+.....+n = n*(n+1)/2\n",
    "如果n(n+1)/2>target ,那么所需要的步数肯定要比n多，而且肯定有向左走的步子，也就是求和的时候肯定是有负数的，至于哪个或者哪些个为负，下面开始讨论\n",
    "第一种情况，n(n+1)/2 - target 为偶数时，所以要想到达 target 需要向左走 n(n+1)/2 - target 偶数步 ，\n",
    "就是把前n项中第( n(n+1)/2 - target)/2 步变为负号就行了\n",
    "第二种情况，当n(n+1)/2 - target 为奇数时，就要分类讨论了，若n为奇数n+1就是偶数 无论向左还是向右 都不会产生一个奇数的差来因此需要再走一步故要n+2步\n",
    "若n为偶数，n+1则为奇数，可以产生一个奇数的差，故要n+1步"
   ]
  },
  {
   "cell_type": "code",
   "execution_count": 64,
   "metadata": {},
   "outputs": [
    {
     "data": {
      "text/plain": [
       "1.5615528128088303"
      ]
     },
     "execution_count": 64,
     "metadata": {},
     "output_type": "execute_result"
    }
   ],
   "source": [
    "target = 2\n",
    "n = (2*target+0.25)**0.5 - 0.5\n",
    "n"
   ]
  },
  {
   "cell_type": "code",
   "execution_count": null,
   "metadata": {},
   "outputs": [],
   "source": []
  }
 ],
 "metadata": {
  "kernelspec": {
   "display_name": "Python 3",
   "language": "python",
   "name": "python3"
  },
  "language_info": {
   "codemirror_mode": {
    "name": "ipython",
    "version": 3
   },
   "file_extension": ".py",
   "mimetype": "text/x-python",
   "name": "python",
   "nbconvert_exporter": "python",
   "pygments_lexer": "ipython3",
   "version": "3.6.5"
  }
 },
 "nbformat": 4,
 "nbformat_minor": 2
}
