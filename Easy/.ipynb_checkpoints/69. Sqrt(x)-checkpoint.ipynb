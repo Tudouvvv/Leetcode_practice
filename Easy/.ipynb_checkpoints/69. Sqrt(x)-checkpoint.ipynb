{
 "cells": [
  {
   "cell_type": "markdown",
   "metadata": {},
   "source": [
    "### 如果直接用内置函数来做是不是太简单了  何况这道题只是让输出整数  所以逼近就可以了"
   ]
  },
  {
   "cell_type": "code",
   "execution_count": 33,
   "metadata": {},
   "outputs": [],
   "source": [
    "def mySqrt(x: int) -> int:\n",
    "#     if x ==1:\n",
    "#         return 1\n",
    "    l, r = 0 ,x\n",
    "    while l <= r:\n",
    "        mid = (r+l) // 2\n",
    "#         if mid * mid > x:\n",
    "#             r = mid - 1\n",
    "#         elif mid * mid < x:\n",
    "#             l = mid + 1\n",
    "#         else:\n",
    "#             return mid\n",
    "#     return l - 1\n",
    "        if mid * mid <= x < (mid+1)*(mid+1):\n",
    "            return mid\n",
    "        elif mid * mid > x:\n",
    "            r = mid\n",
    "        else:\n",
    "            l = mid + 1"
   ]
  },
  {
   "cell_type": "code",
   "execution_count": 34,
   "metadata": {},
   "outputs": [
    {
     "name": "stdout",
     "output_type": "stream",
     "text": [
      "1\n"
     ]
    }
   ],
   "source": [
    "x = 1\n",
    "ans = mySqrt(x)\n",
    "print(ans)"
   ]
  },
  {
   "cell_type": "code",
   "execution_count": 29,
   "metadata": {},
   "outputs": [],
   "source": [
    "def mySqrt(x):\n",
    "    i=1\n",
    "    while(True):\n",
    "        j=(i+x/i)/2\n",
    "        if(abs(i-j)< 10e-7):\n",
    "            break\n",
    "        i=j\n",
    "    return int(j)"
   ]
  },
  {
   "cell_type": "code",
   "execution_count": null,
   "metadata": {},
   "outputs": [],
   "source": []
  }
 ],
 "metadata": {
  "kernelspec": {
   "display_name": "Python 3",
   "language": "python",
   "name": "python3"
  },
  "language_info": {
   "codemirror_mode": {
    "name": "ipython",
    "version": 3
   },
   "file_extension": ".py",
   "mimetype": "text/x-python",
   "name": "python",
   "nbconvert_exporter": "python",
   "pygments_lexer": "ipython3",
   "version": "3.6.5"
  }
 },
 "nbformat": 4,
 "nbformat_minor": 2
}
