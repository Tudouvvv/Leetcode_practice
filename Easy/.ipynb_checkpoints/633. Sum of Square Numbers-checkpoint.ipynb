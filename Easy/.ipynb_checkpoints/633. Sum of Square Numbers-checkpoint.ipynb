{
 "cells": [
  {
   "cell_type": "markdown",
   "metadata": {},
   "source": [
    "### 判断一个数是不是平方和数\n",
    "### 5 = 1\\**2 + 2 \\**2"
   ]
  },
  {
   "cell_type": "code",
   "execution_count": 23,
   "metadata": {},
   "outputs": [],
   "source": [
    "def judgeSquareSum(c: int) -> bool:\n",
    "    if c == 0 or c % (c**0.5) == 0:\n",
    "        return True\n",
    "    tmp = 1\n",
    "    while c > (tmp**2):\n",
    "        p = c - tmp ** 2\n",
    "        if p % (p ** 0.5) == 0:\n",
    "            return True\n",
    "        else:\n",
    "            tmp += 1\n",
    "    return False\n",
    "\n",
    "# 解法略慢"
   ]
  },
  {
   "cell_type": "code",
   "execution_count": 40,
   "metadata": {},
   "outputs": [
    {
     "data": {
      "text/plain": [
       "False"
      ]
     },
     "execution_count": 40,
     "metadata": {},
     "output_type": "execute_result"
    }
   ],
   "source": [
    "c = 7\n",
    "ans = judgeSquareSum(c)\n",
    "ans"
   ]
  },
  {
   "cell_type": "code",
   "execution_count": 29,
   "metadata": {},
   "outputs": [],
   "source": [
    "def judgeSquareSum(c: int) -> bool:\n",
    "    a = 0\n",
    "    b = int(c**0.5)\n",
    "    while a <= b:\n",
    "        cur = a ** 2 + b ** 2\n",
    "        if cur == c:\n",
    "            return True\n",
    "        elif cur > c:\n",
    "            b -= 1\n",
    "        else: a += 1\n",
    "    return False\n",
    "\n",
    "# 略快"
   ]
  },
  {
   "cell_type": "code",
   "execution_count": 36,
   "metadata": {},
   "outputs": [],
   "source": [
    "def judgeSquareSum(c: int) -> bool:\n",
    "    seen = set()\n",
    "    for a in range(int(c**0.5)+1):\n",
    "        seen.add(a**2)\n",
    "        search = c - a**2\n",
    "        if search in seen:\n",
    "            return True\n",
    "    return False"
   ]
  },
  {
   "cell_type": "markdown",
   "metadata": {},
   "source": [
    "### 费马定理可解"
   ]
  },
  {
   "cell_type": "code",
   "execution_count": null,
   "metadata": {},
   "outputs": [],
   "source": []
  }
 ],
 "metadata": {
  "kernelspec": {
   "display_name": "Python 3",
   "language": "python",
   "name": "python3"
  },
  "language_info": {
   "codemirror_mode": {
    "name": "ipython",
    "version": 3
   },
   "file_extension": ".py",
   "mimetype": "text/x-python",
   "name": "python",
   "nbconvert_exporter": "python",
   "pygments_lexer": "ipython3",
   "version": "3.6.5"
  }
 },
 "nbformat": 4,
 "nbformat_minor": 2
}
