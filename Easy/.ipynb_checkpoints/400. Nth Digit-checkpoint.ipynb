{
 "cells": [
  {
   "cell_type": "markdown",
   "metadata": {},
   "source": [
    "### 从1开始的一串整数序列，输入n，返回第n个数字\n",
    "\n",
    "### 与毛交流，十位数有90个数，也就是180个数字，百位数有900个数，也就是2700个数字\n",
    "\n",
    "### 输入一个数，看它在哪个范围，然后取余"
   ]
  },
  {
   "cell_type": "code",
   "execution_count": 146,
   "metadata": {},
   "outputs": [],
   "source": [
    "def findNthDigit(n: int) -> int:\n",
    "    char_size = 1\n",
    "    start = 1\n",
    "    num_size = 9\n",
    "    while n > num_size*char_size:\n",
    "        n -= num_size*char_size\n",
    "        char_size+=1\n",
    "        start *= 10\n",
    "        num_size = 9 * start\n",
    "    return int(str(start + (n-1) // char_size)[(n-1) % char_size])\n",
    "#     return char_size, start, num_size,n,digit, pos"
   ]
  },
  {
   "cell_type": "code",
   "execution_count": 149,
   "metadata": {},
   "outputs": [
    {
     "data": {
      "text/plain": [
       "3"
      ]
     },
     "execution_count": 149,
     "metadata": {},
     "output_type": "execute_result"
    }
   ],
   "source": [
    "n = 17\n",
    "ans = findNthDigit(n)\n",
    "ans"
   ]
  },
  {
   "cell_type": "code",
   "execution_count": null,
   "metadata": {},
   "outputs": [],
   "source": []
  }
 ],
 "metadata": {
  "kernelspec": {
   "display_name": "Python 3",
   "language": "python",
   "name": "python3"
  },
  "language_info": {
   "codemirror_mode": {
    "name": "ipython",
    "version": 3
   },
   "file_extension": ".py",
   "mimetype": "text/x-python",
   "name": "python",
   "nbconvert_exporter": "python",
   "pygments_lexer": "ipython3",
   "version": "3.6.5"
  }
 },
 "nbformat": 4,
 "nbformat_minor": 2
}
