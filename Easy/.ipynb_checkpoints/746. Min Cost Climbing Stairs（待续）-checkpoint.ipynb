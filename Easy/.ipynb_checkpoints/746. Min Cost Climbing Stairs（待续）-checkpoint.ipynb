{
 "cells": [
  {
   "cell_type": "markdown",
   "metadata": {},
   "source": [
    "### 题目要求：用最小成本爬楼梯，每次可以爬一层也可以爬两层，可以从地面开始出发，也可以从第一层开始出发，求最小的成本\n",
    "\n",
    "###  设定一个变量p表示到达每一层的消耗，那么p[0]=p[1]=0，此后每层有两种到达方式，p[i]可以从i-2爬两层到达，也可以从i-1爬一层到达"
   ]
  },
  {
   "cell_type": "code",
   "execution_count": 7,
   "metadata": {},
   "outputs": [],
   "source": [
    "def minCostClimbingStairs(cost) -> int:\n",
    "    v0, v1 = 0, 0\n",
    "    for i in range(2, len(cost)+1):\n",
    "        v2 = min(v0+cost[i-2], v1+cost[i-1])\n",
    "        v0, v1 = v1, v2\n",
    "    return v2"
   ]
  },
  {
   "cell_type": "code",
   "execution_count": 8,
   "metadata": {},
   "outputs": [
    {
     "data": {
      "text/plain": [
       "6"
      ]
     },
     "execution_count": 8,
     "metadata": {},
     "output_type": "execute_result"
    }
   ],
   "source": [
    "cost = [1, 100, 1, 1, 1, 100, 1, 1, 100, 1]\n",
    "ans = minCostClimbingStairs(cost)\n",
    "ans"
   ]
  },
  {
   "cell_type": "code",
   "execution_count": null,
   "metadata": {},
   "outputs": [],
   "source": []
  }
 ],
 "metadata": {
  "kernelspec": {
   "display_name": "Python 3",
   "language": "python",
   "name": "python3"
  },
  "language_info": {
   "codemirror_mode": {
    "name": "ipython",
    "version": 3
   },
   "file_extension": ".py",
   "mimetype": "text/x-python",
   "name": "python",
   "nbconvert_exporter": "python",
   "pygments_lexer": "ipython3",
   "version": "3.6.5"
  }
 },
 "nbformat": 4,
 "nbformat_minor": 2
}
