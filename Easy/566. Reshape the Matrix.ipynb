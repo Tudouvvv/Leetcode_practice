{
 "cells": [
  {
   "cell_type": "markdown",
   "metadata": {},
   "source": [
    "### 题目要求：给你一个矩阵，改变形状后输出新的矩阵，如果不能改变，输出原来的矩阵"
   ]
  },
  {
   "cell_type": "code",
   "execution_count": 8,
   "metadata": {},
   "outputs": [],
   "source": [
    "def matrixReshape(nums, r, c):\n",
    "    flat =sum(nums, [])\n",
    "    if len(flat) != r * c:\n",
    "        return nums\n",
    "    vals = (val for row in nums for val in row)\n",
    "    return [[vals.__next__() for c in range(c)] for r in range(r)]"
   ]
  },
  {
   "cell_type": "code",
   "execution_count": 15,
   "metadata": {},
   "outputs": [],
   "source": [
    "def matrixReshape(nums, r, c):\n",
    "    if len(nums) * len(nums[0]) != r * c:\n",
    "        return nums\n",
    "    vals = sum(nums, [])\n",
    "    k = 0\n",
    "    ans = [[None] * c for _ in range(r)]\n",
    "    for i in range(r):\n",
    "        for j in range(c):\n",
    "            ans[i][j] = vals[k]\n",
    "            k += 1\n",
    "    return ans"
   ]
  },
  {
   "cell_type": "code",
   "execution_count": 16,
   "metadata": {},
   "outputs": [
    {
     "data": {
      "text/plain": [
       "[[1, 2, 3, 4]]"
      ]
     },
     "execution_count": 16,
     "metadata": {},
     "output_type": "execute_result"
    }
   ],
   "source": [
    "nums = [[1,2],[3,4]]\n",
    "r=1\n",
    "c =4\n",
    "ans = matrixReshape(nums, r,c)\n",
    "ans"
   ]
  },
  {
   "cell_type": "code",
   "execution_count": 26,
   "metadata": {},
   "outputs": [
    {
     "data": {
      "text/plain": [
       "[1, 2, 3, 3, 4, 5]"
      ]
     },
     "execution_count": 26,
     "metadata": {},
     "output_type": "execute_result"
    }
   ],
   "source": [
    "nums = [[1,2,3],[3,4,5]]\n",
    "flat = sum(nums, [])\n",
    "flat"
   ]
  },
  {
   "cell_type": "code",
   "execution_count": null,
   "metadata": {},
   "outputs": [],
   "source": []
  },
  {
   "cell_type": "code",
   "execution_count": null,
   "metadata": {},
   "outputs": [],
   "source": []
  }
 ],
 "metadata": {
  "kernelspec": {
   "display_name": "Python 3",
   "language": "python",
   "name": "python3"
  },
  "language_info": {
   "codemirror_mode": {
    "name": "ipython",
    "version": 3
   },
   "file_extension": ".py",
   "mimetype": "text/x-python",
   "name": "python",
   "nbconvert_exporter": "python",
   "pygments_lexer": "ipython3",
   "version": "3.6.5"
  }
 },
 "nbformat": 4,
 "nbformat_minor": 2
}
