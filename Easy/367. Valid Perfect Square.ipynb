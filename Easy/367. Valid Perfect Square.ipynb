{
 "cells": [
  {
   "cell_type": "markdown",
   "metadata": {},
   "source": [
    "### 给一个数，判断它是不是一个正方形数？？也就是1、4、9、16...这类的，不允许使用sqrt的内置函数\n",
    "\n",
    "### 肯定是可以通过一个循环来遍历解决，但是感觉这样太慢了...\n"
   ]
  },
  {
   "cell_type": "code",
   "execution_count": 62,
   "metadata": {},
   "outputs": [],
   "source": [
    "def isPerfectSquare(num: int) -> bool:\n",
    "    if num <=0 :\n",
    "        return False\n",
    "    if num == 1 or num == 4:\n",
    "        return True\n",
    "    for i in range(2, num//2):\n",
    "        if i**2 == num:\n",
    "            return True\n",
    "    return False"
   ]
  },
  {
   "cell_type": "markdown",
   "metadata": {},
   "source": [
    "### 二分法"
   ]
  },
  {
   "cell_type": "code",
   "execution_count": 58,
   "metadata": {},
   "outputs": [],
   "source": [
    "def isPerfectSquare(num: int) -> bool:\n",
    "    if num == 1:\n",
    "        return True\n",
    "    left, right = 1, num//2\n",
    "    while left <= right:\n",
    "        mid = left + (right - left)//2\n",
    "        if mid ** 2 == num:\n",
    "            return True\n",
    "        elif mid ** 2 > num:\n",
    "            right = mid - 1\n",
    "        elif mid ** 2 < num:\n",
    "            left = mid + 1\n",
    "    return False"
   ]
  },
  {
   "cell_type": "markdown",
   "metadata": {},
   "source": [
    "下面这种方法就是纯数学解法了，利用到了这样一条性质，完全平方数是一系列奇数之和，例如：\n",
    "\n",
    "1 = 1\n",
    "4 = 1 + 3\n",
    "9 = 1 + 3 + 5\n",
    "16 = 1 + 3 + 5 + 7\n",
    "25 = 1 + 3 + 5 + 7 + 9\n",
    "36 = 1 + 3 + 5 + 7 + 9 + 11\n",
    "....\n",
    "1+3+...+(2n-1) = (2n-1 + 1)n/2 = n*n\n",
    "\n",
    "这里就不做证明了，我也不会证明，知道了这条性质，就可以利用其来解题了，时间复杂度为O(sqrt(n))。"
   ]
  },
  {
   "cell_type": "code",
   "execution_count": 63,
   "metadata": {},
   "outputs": [],
   "source": [
    "def isPerfectSquare(num: int) -> bool:\n",
    "    i = 1\n",
    "    while num > 0:\n",
    "        num -= i\n",
    "        i += 2\n",
    "    return num == 0"
   ]
  },
  {
   "cell_type": "code",
   "execution_count": 67,
   "metadata": {},
   "outputs": [
    {
     "data": {
      "text/plain": [
       "False"
      ]
     },
     "execution_count": 67,
     "metadata": {},
     "output_type": "execute_result"
    }
   ],
   "source": [
    "ans = isPerfectSquare(5)\n",
    "ans"
   ]
  },
  {
   "cell_type": "code",
   "execution_count": null,
   "metadata": {},
   "outputs": [],
   "source": []
  }
 ],
 "metadata": {
  "kernelspec": {
   "display_name": "Python 3",
   "language": "python",
   "name": "python3"
  },
  "language_info": {
   "codemirror_mode": {
    "name": "ipython",
    "version": 3
   },
   "file_extension": ".py",
   "mimetype": "text/x-python",
   "name": "python",
   "nbconvert_exporter": "python",
   "pygments_lexer": "ipython3",
   "version": "3.6.5"
  }
 },
 "nbformat": 4,
 "nbformat_minor": 2
}
