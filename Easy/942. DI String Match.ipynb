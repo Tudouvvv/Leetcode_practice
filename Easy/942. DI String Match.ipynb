{
 "cells": [
  {
   "cell_type": "markdown",
   "metadata": {},
   "source": [
    "### 给你一个字符串，只包含I和D，I代表增加，D代表减少\n",
    "### 通过给的样例发现，D取最大元素，I取最小元素"
   ]
  },
  {
   "cell_type": "code",
   "execution_count": 10,
   "metadata": {},
   "outputs": [],
   "source": [
    "# 超时了\n",
    "def diStringMatch(S: str):\n",
    "    p = []\n",
    "    N = []\n",
    "    for i in range(len(S)+ 1):\n",
    "        p.append(i)\n",
    "    for char in S:\n",
    "        if char == \"D\":\n",
    "            N.append(max(p))\n",
    "            p.remove(max(p))\n",
    "        else:\n",
    "            N.append(min(p))\n",
    "            p.remove(min(p))\n",
    "    N.append(p[0])\n",
    "    return N"
   ]
  },
  {
   "cell_type": "code",
   "execution_count": 20,
   "metadata": {},
   "outputs": [],
   "source": [
    "def diStringMatch(S: str):\n",
    "    l, r, N = 0, len(S), []\n",
    "    for char in S:\n",
    "        N.append(l if char =='I' else r)\n",
    "        l, r = l +(char == 'I'), r - (char == 'D')\n",
    "    return N + [l]"
   ]
  },
  {
   "cell_type": "code",
   "execution_count": 22,
   "metadata": {},
   "outputs": [
    {
     "data": {
      "text/plain": [
       "[0, 4, 1, 3, 2]"
      ]
     },
     "execution_count": 22,
     "metadata": {},
     "output_type": "execute_result"
    }
   ],
   "source": [
    "S =  \"IDID\"\n",
    "ans = diStringMatch(S)\n",
    "ans"
   ]
  },
  {
   "cell_type": "code",
   "execution_count": null,
   "metadata": {},
   "outputs": [],
   "source": []
  }
 ],
 "metadata": {
  "kernelspec": {
   "display_name": "Python 3",
   "language": "python",
   "name": "python3"
  },
  "language_info": {
   "codemirror_mode": {
    "name": "ipython",
    "version": 3
   },
   "file_extension": ".py",
   "mimetype": "text/x-python",
   "name": "python",
   "nbconvert_exporter": "python",
   "pygments_lexer": "ipython3",
   "version": "3.6.5"
  }
 },
 "nbformat": 4,
 "nbformat_minor": 2
}
