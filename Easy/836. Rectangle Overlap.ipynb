{
 "cells": [
  {
   "cell_type": "markdown",
   "metadata": {},
   "source": [
    "### 给四个点的坐标，分别是两个长方形左下角和右上角点的坐标，查看两个长方形是否重叠\n",
    "\n",
    "### 先考虑一维的情况，两条线分别为(lef1, right1) 、 (left2, right2)\n",
    "\n",
    "### 如果两条线有交集，那么存在x, max(left1, left2) < x < min(right1, right2)\n",
    "\n",
    "### 推广到2维"
   ]
  },
  {
   "cell_type": "code",
   "execution_count": 1,
   "metadata": {},
   "outputs": [],
   "source": [
    "def isRectangleOverlap(rec1, rec2) -> bool:\n",
    "    return max(rec1[0], rec2[0]) < min(rec1[2], rec2[2]) and max(rec1[1], rec2[1]) < min(rec1[3], rec2[3])"
   ]
  },
  {
   "cell_type": "code",
   "execution_count": 4,
   "metadata": {},
   "outputs": [
    {
     "data": {
      "text/plain": [
       "False"
      ]
     },
     "execution_count": 4,
     "metadata": {},
     "output_type": "execute_result"
    }
   ],
   "source": [
    "# rec1 = [0,0,2,2]\n",
    "# rec2 = [1,1,3,3]\n",
    "rec1 = [0,0,1,1]\n",
    "rec2 = [1,0,2,1]\n",
    "ans = isRectangleOverlap(rec1, rec2)\n",
    "ans"
   ]
  },
  {
   "cell_type": "code",
   "execution_count": 5,
   "metadata": {},
   "outputs": [],
   "source": [
    "def isRectangleOverlap(rec1, rec2) -> bool:  \n",
    "    return not (rec1[2] <= rec2[0] or  # left\n",
    "                rec1[3] <= rec2[1] or  # bottom\n",
    "                rec1[0] >= rec2[2] or  # right\n",
    "                rec1[1] >= rec2[3])    # top\n",
    "\n",
    "# 不考虑相交的情况，只考虑不相交的情况，然后取反"
   ]
  },
  {
   "cell_type": "code",
   "execution_count": null,
   "metadata": {},
   "outputs": [],
   "source": []
  }
 ],
 "metadata": {
  "kernelspec": {
   "display_name": "Python 3",
   "language": "python",
   "name": "python3"
  },
  "language_info": {
   "codemirror_mode": {
    "name": "ipython",
    "version": 3
   },
   "file_extension": ".py",
   "mimetype": "text/x-python",
   "name": "python",
   "nbconvert_exporter": "python",
   "pygments_lexer": "ipython3",
   "version": "3.6.5"
  }
 },
 "nbformat": 4,
 "nbformat_minor": 2
}
