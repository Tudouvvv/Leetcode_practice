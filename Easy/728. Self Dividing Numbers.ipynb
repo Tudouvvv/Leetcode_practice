{
 "cells": [
  {
   "cell_type": "markdown",
   "metadata": {},
   "source": [
    "### 可分数：可以整除自己的每个数字\n",
    "### 目前的想法：先写一个函数判断是不是可分数   然后遍历left--right"
   ]
  },
  {
   "cell_type": "code",
   "execution_count": 17,
   "metadata": {},
   "outputs": [],
   "source": [
    "def selfDividingNumbers(left: int, right: int):\n",
    "    count = []\n",
    "    for digit in range(left, right+1):\n",
    "        if DividingNumbers(digit):\n",
    "            count.append(digit)\n",
    "    return count\n",
    "\n",
    "def DividingNumbers(num):\n",
    "    digit = str(num)\n",
    "    for char in digit:\n",
    "        if char == '0':\n",
    "            return False\n",
    "        if num % int(char) != 0:\n",
    "            return False\n",
    "    return True"
   ]
  },
  {
   "cell_type": "code",
   "execution_count": 18,
   "metadata": {},
   "outputs": [
    {
     "data": {
      "text/plain": [
       "[1, 2, 3, 4, 5, 6, 7, 8, 9, 11, 12, 15, 22]"
      ]
     },
     "execution_count": 18,
     "metadata": {},
     "output_type": "execute_result"
    }
   ],
   "source": [
    "left = 1\n",
    "right = 22\n",
    "ans = selfDividingNumbers(left, right)\n",
    "ans"
   ]
  },
  {
   "cell_type": "code",
   "execution_count": null,
   "metadata": {},
   "outputs": [],
   "source": []
  }
 ],
 "metadata": {
  "kernelspec": {
   "display_name": "Python 3",
   "language": "python",
   "name": "python3"
  },
  "language_info": {
   "codemirror_mode": {
    "name": "ipython",
    "version": 3
   },
   "file_extension": ".py",
   "mimetype": "text/x-python",
   "name": "python",
   "nbconvert_exporter": "python",
   "pygments_lexer": "ipython3",
   "version": "3.6.5"
  }
 },
 "nbformat": 4,
 "nbformat_minor": 2
}
