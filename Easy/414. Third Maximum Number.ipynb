{
 "cells": [
  {
   "cell_type": "markdown",
   "metadata": {},
   "source": [
    "### 返回一个数组中第三大的数字，如果这个数字不存在，返回最大的数字\n",
    "\n",
    "### 思路：先用set()去重，然后在比大小"
   ]
  },
  {
   "cell_type": "code",
   "execution_count": 2,
   "metadata": {},
   "outputs": [],
   "source": [
    "def thirdMax(nums) -> int:\n",
    "    if not nums:\n",
    "        return None\n",
    "    nums = set(nums)\n",
    "    nums = sorted(nums)\n",
    "    if len(nums) < 3:\n",
    "        return nums[-1]\n",
    "    else: \n",
    "        return nums[-3]\n",
    "# 如果不用sorted应该怎么做？？"
   ]
  },
  {
   "cell_type": "code",
   "execution_count": 7,
   "metadata": {},
   "outputs": [],
   "source": [
    "def thirdMax(nums):\n",
    "    v = [float('-inf'), float('-inf'), float('-inf')]\n",
    "    for num in nums:\n",
    "        if num in v:\n",
    "            continue\n",
    "        if num > v[0]:\n",
    "            num, v[0] = v[0], num\n",
    "        if num > v[1]:\n",
    "            num, v[1] = v[1], num\n",
    "        if num > v[2]:\n",
    "            num, v[2] = v[2], num\n",
    "    return v[0] if v[2] == float('-inf') else v[2]"
   ]
  },
  {
   "cell_type": "code",
   "execution_count": 8,
   "metadata": {},
   "outputs": [
    {
     "data": {
      "text/plain": [
       "1"
      ]
     },
     "execution_count": 8,
     "metadata": {},
     "output_type": "execute_result"
    }
   ],
   "source": [
    "nums = [2, 3, 1]\n",
    "ans = thirdMax(nums)\n",
    "ans"
   ]
  },
  {
   "cell_type": "code",
   "execution_count": null,
   "metadata": {},
   "outputs": [],
   "source": []
  }
 ],
 "metadata": {
  "kernelspec": {
   "display_name": "Python 3",
   "language": "python",
   "name": "python3"
  },
  "language_info": {
   "codemirror_mode": {
    "name": "ipython",
    "version": 3
   },
   "file_extension": ".py",
   "mimetype": "text/x-python",
   "name": "python",
   "nbconvert_exporter": "python",
   "pygments_lexer": "ipython3",
   "version": "3.6.5"
  }
 },
 "nbformat": 4,
 "nbformat_minor": 2
}
