{
 "cells": [
  {
   "cell_type": "markdown",
   "metadata": {},
   "source": [
    "### 题目要求：字符可以表示为两种形式：单一字符：0，两个字符：10或11，现在给你一个字符串，问你最后一个字符是否是单一字符\n",
    "\n",
    "### 想法：有不同的情况要讨论\n",
    "\n",
    "### 因为最后一位一定是0，所以就要看倒数第二位是什么，如果是0，那么返回true，如果是1，就又要往前看"
   ]
  },
  {
   "cell_type": "code",
   "execution_count": 2,
   "metadata": {},
   "outputs": [],
   "source": [
    "def isOneBitCharacter(bits) -> bool:\n",
    "    if bits[-2] == 0:\n",
    "        return True\n",
    "    elif bits[-3] == 0:\n",
    "            return False\n",
    "    # 这样做有问题，因为长度并不能判断，可能就没有这么长，所以应该从开头开始判断"
   ]
  },
  {
   "cell_type": "code",
   "execution_count": 10,
   "metadata": {},
   "outputs": [],
   "source": [
    "def isOneBitCharacter(bits) -> bool:\n",
    "    if not bits:\n",
    "        return False\n",
    "    index = 0\n",
    "    n = len(bits)\n",
    "    while index < n:\n",
    "        if index == n-1:\n",
    "            return True\n",
    "        if bits[index] == 1:\n",
    "            index += 2\n",
    "        else:\n",
    "            index += 1\n",
    "    return False"
   ]
  },
  {
   "cell_type": "code",
   "execution_count": 13,
   "metadata": {},
   "outputs": [],
   "source": [
    "def isOneBitCharacter(bits) -> bool:    \n",
    "    i = 0\n",
    "    n = len(bits) - 1\n",
    "    while i < n:\n",
    "        i += 1+bits[i]\n",
    "    return i == n"
   ]
  },
  {
   "cell_type": "code",
   "execution_count": 14,
   "metadata": {},
   "outputs": [
    {
     "data": {
      "text/plain": [
       "True"
      ]
     },
     "execution_count": 14,
     "metadata": {},
     "output_type": "execute_result"
    }
   ],
   "source": [
    "bits = [1, 1, 0]\n",
    "ans = isOneBitCharacter(bits)\n",
    "ans"
   ]
  },
  {
   "cell_type": "code",
   "execution_count": null,
   "metadata": {},
   "outputs": [],
   "source": []
  }
 ],
 "metadata": {
  "kernelspec": {
   "display_name": "Python 3",
   "language": "python",
   "name": "python3"
  },
  "language_info": {
   "codemirror_mode": {
    "name": "ipython",
    "version": 3
   },
   "file_extension": ".py",
   "mimetype": "text/x-python",
   "name": "python",
   "nbconvert_exporter": "python",
   "pygments_lexer": "ipython3",
   "version": "3.6.5"
  }
 },
 "nbformat": 4,
 "nbformat_minor": 2
}
