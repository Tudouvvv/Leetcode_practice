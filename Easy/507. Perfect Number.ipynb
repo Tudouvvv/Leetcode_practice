{
 "cells": [
  {
   "cell_type": "markdown",
   "metadata": {},
   "source": [
    "### 我们定义Perfect Number是一个正整数，它等于除了它自己之外的所有正除数之和。\n",
    "\n",
    "### 那么找出从它的所有除数，加起来看是否相等就是\n",
    "\n",
    "### 找出除数，是从2到sqrt(n)"
   ]
  },
  {
   "cell_type": "code",
   "execution_count": 13,
   "metadata": {},
   "outputs": [],
   "source": [
    "def checkPerfectNumber(num: int) -> bool:\n",
    "    if num <= 0:\n",
    "        return False\n",
    "    count = 0\n",
    "    sqrt = int(num ** 0.5)\n",
    "    for i in range(2, sqrt + 1):\n",
    "        if num % i == 0:\n",
    "            count += i + num // i\n",
    "    if num == sqrt **2:\n",
    "        count -= sqrt\n",
    "    return count+1==num"
   ]
  },
  {
   "cell_type": "code",
   "execution_count": 14,
   "metadata": {},
   "outputs": [
    {
     "data": {
      "text/plain": [
       "True"
      ]
     },
     "execution_count": 14,
     "metadata": {},
     "output_type": "execute_result"
    }
   ],
   "source": [
    "ans = checkPerfectNumber(28)\n",
    "ans"
   ]
  },
  {
   "cell_type": "code",
   "execution_count": null,
   "metadata": {},
   "outputs": [],
   "source": []
  }
 ],
 "metadata": {
  "kernelspec": {
   "display_name": "Python 3",
   "language": "python",
   "name": "python3"
  },
  "language_info": {
   "codemirror_mode": {
    "name": "ipython",
    "version": 3
   },
   "file_extension": ".py",
   "mimetype": "text/x-python",
   "name": "python",
   "nbconvert_exporter": "python",
   "pygments_lexer": "ipython3",
   "version": "3.6.5"
  }
 },
 "nbformat": 4,
 "nbformat_minor": 2
}
