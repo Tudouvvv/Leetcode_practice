{
 "cells": [
  {
   "cell_type": "markdown",
   "metadata": {},
   "source": [
    "### 题目要求：找到数组中最长的连续增长的序列的长度\n",
    "\n",
    "### 想法：设置两个变量分别存储当前的最长和总的最长，每次进行比较取最大\n",
    "\n",
    "### 遇到的问题：没有考虑一直增长的情况，这样的话就不会进入else判断中去，所以最后return的时候应该再判断一次\n",
    "\n",
    "###                      也没有考虑数组为空的情况"
   ]
  },
  {
   "cell_type": "code",
   "execution_count": 6,
   "metadata": {},
   "outputs": [],
   "source": [
    "def findLengthOfLCIS(nums) -> int:\n",
    "    if not nums:\n",
    "        return 0\n",
    "    count = 1\n",
    "    max_count = 1\n",
    "    for i in range(1, len(nums)):\n",
    "        if nums[i] > nums[i-1]:\n",
    "            count += 1\n",
    "        else:\n",
    "            max_count = max(count, max_count)\n",
    "            count = 1\n",
    "    return max(max_count, count)"
   ]
  },
  {
   "cell_type": "code",
   "execution_count": 7,
   "metadata": {},
   "outputs": [
    {
     "data": {
      "text/plain": [
       "4"
      ]
     },
     "execution_count": 7,
     "metadata": {},
     "output_type": "execute_result"
    }
   ],
   "source": [
    "nums = [1,3,5,7]\n",
    "ans = findLengthOfLCIS(nums)\n",
    "ans"
   ]
  },
  {
   "cell_type": "code",
   "execution_count": null,
   "metadata": {},
   "outputs": [],
   "source": []
  }
 ],
 "metadata": {
  "kernelspec": {
   "display_name": "Python 3",
   "language": "python",
   "name": "python3"
  },
  "language_info": {
   "codemirror_mode": {
    "name": "ipython",
    "version": 3
   },
   "file_extension": ".py",
   "mimetype": "text/x-python",
   "name": "python",
   "nbconvert_exporter": "python",
   "pygments_lexer": "ipython3",
   "version": "3.6.5"
  }
 },
 "nbformat": 4,
 "nbformat_minor": 2
}
