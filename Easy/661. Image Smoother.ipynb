{
 "cells": [
  {
   "cell_type": "markdown",
   "metadata": {},
   "source": [
    "### 题目要求：给你一个矩阵表示一张图片的像素值，现在要对图片进行平滑处理，即：自己的像素值等于自己加周围八个点的像素值的和的平均，输出平滑后的矩阵\n",
    "\n",
    "### 想法：由于存在边缘和四个角的关系，所以得分情况讨论，我举得可以进行padding操作一下，周围先补一圈0，这样就比较好，但是不知道怎么实现"
   ]
  },
  {
   "cell_type": "code",
   "execution_count": 23,
   "metadata": {},
   "outputs": [],
   "source": [
    "def imageSmoother(M):\n",
    "    res = [[0] * len(M[0]) for _ in range(len(M))]\n",
    "    directions = [(-1, -1), (-1, 0), (-1, 1), (0, -1), (0, 1), (1, -1), (1, 0), (1, 1)]\n",
    "    for i in range(len(M)):\n",
    "        for j in range(len(M[0])):\n",
    "            ins_value = M[i][j]\n",
    "            count = 1\n",
    "            for dx, dy in directions:\n",
    "                new_x, new_y = i + dx, j + dy\n",
    "                if 0<=new_x<len(M) and 0 <= new_y<len(M[0]):\n",
    "                    ins_value += M[new_x][new_y]\n",
    "                    count += 1\n",
    "            res[i][j] = int(ins_value / count)\n",
    "    return res"
   ]
  },
  {
   "cell_type": "code",
   "execution_count": 24,
   "metadata": {},
   "outputs": [
    {
     "data": {
      "text/plain": [
       "[[0, 0, 0], [0, 0, 0], [0, 0, 0]]"
      ]
     },
     "execution_count": 24,
     "metadata": {},
     "output_type": "execute_result"
    }
   ],
   "source": [
    "a = [[1,1,1],\n",
    " [1,0,1],\n",
    " [1,1,1]]\n",
    "ans = imageSmoother(a)\n",
    "ans"
   ]
  },
  {
   "cell_type": "code",
   "execution_count": null,
   "metadata": {},
   "outputs": [],
   "source": []
  }
 ],
 "metadata": {
  "kernelspec": {
   "display_name": "Python 3",
   "language": "python",
   "name": "python3"
  },
  "language_info": {
   "codemirror_mode": {
    "name": "ipython",
    "version": 3
   },
   "file_extension": ".py",
   "mimetype": "text/x-python",
   "name": "python",
   "nbconvert_exporter": "python",
   "pygments_lexer": "ipython3",
   "version": "3.6.5"
  }
 },
 "nbformat": 4,
 "nbformat_minor": 2
}
