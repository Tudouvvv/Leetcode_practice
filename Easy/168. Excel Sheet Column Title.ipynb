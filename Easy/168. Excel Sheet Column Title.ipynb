{
 "cells": [
  {
   "cell_type": "markdown",
   "metadata": {},
   "source": [
    "### 观察了一下发现  取余匹配就行  \n",
    "\n",
    "### 后来没有写出来 看了别人的解法"
   ]
  },
  {
   "cell_type": "code",
   "execution_count": 97,
   "metadata": {},
   "outputs": [],
   "source": [
    "def convertToTitle(n: int) -> str:\n",
    "#     search_map = {\n",
    "#           '1':'A','2':'B','3':'C','4':'D',\n",
    "#           '5':'E','6':'F','7':'G','8':'H',\n",
    "#           '9':'I','10':'J','11':'K','12':'L',\n",
    "#           '13':'M','14':'N','15':'O','16':'P',\n",
    "#           '17':'Q','18':'R','19':'S','20':'T',\n",
    "#           '21':'U','22':'V','23':'W','24':'X',\n",
    "#           '25':'Y','0':'Z'}\n",
    "    tmp = []\n",
    "    while n > 0:\n",
    "        tmp.append(chr((n-1) % 26 + ord('A')))\n",
    "        n = (n-1)// 26 \n",
    "    ans = tmp[::-1]\n",
    "    return \"\".join(ans)"
   ]
  },
  {
   "cell_type": "code",
   "execution_count": 99,
   "metadata": {},
   "outputs": [
    {
     "data": {
      "text/plain": [
       "'ZY'"
      ]
     },
     "execution_count": 99,
     "metadata": {},
     "output_type": "execute_result"
    }
   ],
   "source": [
    "ans = convertToTitle(701)\n",
    "ans"
   ]
  },
  {
   "cell_type": "code",
   "execution_count": null,
   "metadata": {},
   "outputs": [],
   "source": []
  }
 ],
 "metadata": {
  "kernelspec": {
   "display_name": "Python 3",
   "language": "python",
   "name": "python3"
  },
  "language_info": {
   "codemirror_mode": {
    "name": "ipython",
    "version": 3
   },
   "file_extension": ".py",
   "mimetype": "text/x-python",
   "name": "python",
   "nbconvert_exporter": "python",
   "pygments_lexer": "ipython3",
   "version": "3.6.5"
  }
 },
 "nbformat": 4,
 "nbformat_minor": 2
}
