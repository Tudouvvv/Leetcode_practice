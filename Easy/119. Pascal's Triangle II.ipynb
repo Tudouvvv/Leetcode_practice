{
 "cells": [
  {
   "cell_type": "markdown",
   "metadata": {},
   "source": [
    "### 相比较118而言，输入k不必生成所有的数列，只需要得到第k行的即可"
   ]
  },
  {
   "cell_type": "code",
   "execution_count": 1,
   "metadata": {},
   "outputs": [],
   "source": [
    "def getRow(rowIndex):\n",
    "    prev = [1]\n",
    "    for i in range(0, rowIndex+1):\n",
    "        prev = generate(prev, i)\n",
    "    return prev\n",
    "    \n",
    "def generate(prev, idx):\n",
    "    idxs = [1 for i in range(idx+1)]\n",
    "    for i in range(1, idx):\n",
    "        idxs[i] = prev[i] + prev[i -1]\n",
    "    return idxs"
   ]
  },
  {
   "cell_type": "code",
   "execution_count": 2,
   "metadata": {},
   "outputs": [
    {
     "data": {
      "text/plain": [
       "[1, 3, 3, 1]"
      ]
     },
     "execution_count": 2,
     "metadata": {},
     "output_type": "execute_result"
    }
   ],
   "source": [
    "rowIndex = 3\n",
    "ans = getRow(rowIndex)\n",
    "ans"
   ]
  },
  {
   "cell_type": "code",
   "execution_count": 17,
   "metadata": {},
   "outputs": [],
   "source": [
    "rpta = [1 for i in range(4 + 1)]"
   ]
  },
  {
   "cell_type": "code",
   "execution_count": 18,
   "metadata": {},
   "outputs": [
    {
     "data": {
      "text/plain": [
       "[1, 1, 1, 1, 1]"
      ]
     },
     "execution_count": 18,
     "metadata": {},
     "output_type": "execute_result"
    }
   ],
   "source": [
    "rpta"
   ]
  },
  {
   "cell_type": "code",
   "execution_count": null,
   "metadata": {},
   "outputs": [],
   "source": [
    "def generate(numRows):\n",
    "    if numRows <= 0:\n",
    "        return []\n",
    "    res = [[1]]\n",
    "    for numRow in range(1, numRows):\n",
    "        tmp = [1, 1]\n",
    "        for i in range(1, numRow):\n",
    "            tmp.insert(i, res[numRow-1][i] + res[numRow-1][i-1])\n",
    "        res.append(tmp)\n",
    "    return res"
   ]
  }
 ],
 "metadata": {
  "kernelspec": {
   "display_name": "Python 3",
   "language": "python",
   "name": "python3"
  },
  "language_info": {
   "codemirror_mode": {
    "name": "ipython",
    "version": 3
   },
   "file_extension": ".py",
   "mimetype": "text/x-python",
   "name": "python",
   "nbconvert_exporter": "python",
   "pygments_lexer": "ipython3",
   "version": "3.6.5"
  }
 },
 "nbformat": 4,
 "nbformat_minor": 2
}
