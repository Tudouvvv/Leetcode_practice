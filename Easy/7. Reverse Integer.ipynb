{
 "cells": [
  {
   "cell_type": "code",
   "execution_count": 13,
   "metadata": {},
   "outputs": [],
   "source": [
    "def reverse(x):\n",
    "    \"\"\"\n",
    "    :type x: int\n",
    "    :rtype: int\n",
    "    \"\"\"\n",
    "    if x < 0:\n",
    "        ans = -int(str(-x)[ : :-1])\n",
    "        if ans < -2**31:\n",
    "            return 0\n",
    "        else:\n",
    "            return ans\n",
    "    else:\n",
    "        ans = int(str(x)[ : : -1])\n",
    "        if ans > 2 ** 31 -1:\n",
    "            return 0\n",
    "        else:\n",
    "            return ans\n",
    "        "
   ]
  },
  {
   "cell_type": "code",
   "execution_count": null,
   "metadata": {},
   "outputs": [],
   "source": [
    "class Solution:\n",
    "    def reverse(self, x):\n",
    "        \"\"\"\n",
    "        :type x: int\n",
    "        :rtype: int\n",
    "        \"\"\"\n",
    "        if x < 0:\n",
    "            ret = -int((str(-x)[::-1]))\n",
    "            if ret < - 2**31:\n",
    "                return 0\n",
    "            return ret\n",
    "        else:\n",
    "            ret = int((str(x)[::-1]))\n",
    "            if ret > 2**31 -1:\n",
    "                return 0\n",
    "            return ret"
   ]
  },
  {
   "cell_type": "code",
   "execution_count": 15,
   "metadata": {},
   "outputs": [
    {
     "name": "stdout",
     "output_type": "stream",
     "text": [
      "0\n"
     ]
    }
   ],
   "source": [
    "x = 0\n",
    "ans = reverse(x)\n",
    "print(ans)"
   ]
  },
  {
   "cell_type": "code",
   "execution_count": 6,
   "metadata": {},
   "outputs": [
    {
     "data": {
      "text/plain": [
       "-8"
      ]
     },
     "execution_count": 6,
     "metadata": {},
     "output_type": "execute_result"
    }
   ],
   "source": [
    "-2 ** 3"
   ]
  },
  {
   "cell_type": "code",
   "execution_count": null,
   "metadata": {},
   "outputs": [],
   "source": []
  }
 ],
 "metadata": {
  "kernelspec": {
   "display_name": "Python 3",
   "language": "python",
   "name": "python3"
  },
  "language_info": {
   "codemirror_mode": {
    "name": "ipython",
    "version": 3
   },
   "file_extension": ".py",
   "mimetype": "text/x-python",
   "name": "python",
   "nbconvert_exporter": "python",
   "pygments_lexer": "ipython3",
   "version": "3.6.5"
  }
 },
 "nbformat": 4,
 "nbformat_minor": 2
}
