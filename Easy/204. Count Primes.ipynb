{
 "cells": [
  {
   "cell_type": "markdown",
   "metadata": {},
   "source": [
    "### 又是素数 = =  \n",
    "### 超过时间限制了  因为我想的是先写出判断一个数是否为素数  再去判断每个数  这样时间复杂度是n2\n",
    "\n",
    "### 之后看别人的解法，用到了一个厄拉多塞筛法的算法，原理就是从2开始，删除2的倍数，然后是3...最后剩下的数就是素数"
   ]
  },
  {
   "cell_type": "code",
   "execution_count": 1,
   "metadata": {},
   "outputs": [],
   "source": [
    "def countPrimes(n: int) -> int:\n",
    "    count = 0\n",
    "    tmp = 1\n",
    "    ps = []\n",
    "    while tmp < n:\n",
    "        if primes(tmp):\n",
    "            count += 1\n",
    "            ps.append(tmp)\n",
    "            tmp += 1\n",
    "        else:\n",
    "            tmp += 1\n",
    "    return count\n",
    "\n",
    "def primes(n):\n",
    "    if n == 1:\n",
    "        return False\n",
    "    i = int(n ** 0.5)\n",
    "#     i = n // 2\n",
    "    while i > 1:\n",
    "        if n % i == 0:\n",
    "            return False\n",
    "        else:\n",
    "            i -= 1\n",
    "    return True"
   ]
  },
  {
   "cell_type": "code",
   "execution_count": 10,
   "metadata": {},
   "outputs": [],
   "source": [
    "def countPrimes(n):\n",
    "    if n < 3:\n",
    "        return 0\n",
    "    primes = [True] * n\n",
    "    primes[0] = primes[1] = False\n",
    "    for i in range(2, int(n**0.5)+1):\n",
    "        if primes[i]:\n",
    "            primes[i*i:n:i] = [False]*len(primes[i*i:n:i])\n",
    "    return sum(primes)"
   ]
  },
  {
   "cell_type": "code",
   "execution_count": 11,
   "metadata": {},
   "outputs": [
    {
     "data": {
      "text/plain": [
       "100897"
      ]
     },
     "execution_count": 11,
     "metadata": {},
     "output_type": "execute_result"
    }
   ],
   "source": [
    "n = 1312312\n",
    "ans = countPrimes(n)\n",
    "ans"
   ]
  },
  {
   "cell_type": "code",
   "execution_count": null,
   "metadata": {},
   "outputs": [],
   "source": []
  }
 ],
 "metadata": {
  "kernelspec": {
   "display_name": "Python 3",
   "language": "python",
   "name": "python3"
  },
  "language_info": {
   "codemirror_mode": {
    "name": "ipython",
    "version": 3
   },
   "file_extension": ".py",
   "mimetype": "text/x-python",
   "name": "python",
   "nbconvert_exporter": "python",
   "pygments_lexer": "ipython3",
   "version": "3.6.5"
  }
 },
 "nbformat": 4,
 "nbformat_minor": 2
}
