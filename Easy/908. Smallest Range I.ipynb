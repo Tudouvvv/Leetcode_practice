{
 "cells": [
  {
   "cell_type": "markdown",
   "metadata": {},
   "source": [
    "### 给你一个数组，给你一个k>0，选择一个x∈[-k, k]，对数组里的元素进行操作，最后得到一个新的数组，目的是让数组里最大值与最小值的差最小"
   ]
  },
  {
   "cell_type": "code",
   "execution_count": 2,
   "metadata": {},
   "outputs": [],
   "source": [
    "def smallestRangeI(A, K: int) -> int:\n",
    "    if len(A) == 1 or len(A) == 0:\n",
    "        return 0\n",
    "    if max(A) - min(A) <= 2 * K:\n",
    "        return 0\n",
    "    elif max(A) - min(A) > 2 * K:\n",
    "        return max(A) - min(A) - 2 * K"
   ]
  },
  {
   "cell_type": "code",
   "execution_count": 4,
   "metadata": {},
   "outputs": [
    {
     "data": {
      "text/plain": [
       "6"
      ]
     },
     "execution_count": 4,
     "metadata": {},
     "output_type": "execute_result"
    }
   ],
   "source": [
    "A = [0, 10]\n",
    "K = 2\n",
    "ans = smallestRangeI(A, K)\n",
    "ans"
   ]
  },
  {
   "cell_type": "code",
   "execution_count": null,
   "metadata": {},
   "outputs": [],
   "source": []
  }
 ],
 "metadata": {
  "kernelspec": {
   "display_name": "Python 3",
   "language": "python",
   "name": "python3"
  },
  "language_info": {
   "codemirror_mode": {
    "name": "ipython",
    "version": 3
   },
   "file_extension": ".py",
   "mimetype": "text/x-python",
   "name": "python",
   "nbconvert_exporter": "python",
   "pygments_lexer": "ipython3",
   "version": "3.6.5"
  }
 },
 "nbformat": 4,
 "nbformat_minor": 2
}
