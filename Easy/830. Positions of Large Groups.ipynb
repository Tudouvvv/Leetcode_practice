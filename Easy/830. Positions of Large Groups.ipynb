{
 "cells": [
  {
   "cell_type": "markdown",
   "metadata": {},
   "source": [
    "### 题目要求：给你一个字符串，如果有连续三个或>3个一样的，记录始终索引，最后返回所有得索引"
   ]
  },
  {
   "cell_type": "code",
   "execution_count": 50,
   "metadata": {},
   "outputs": [],
   "source": [
    "def largeGroupPositions(S):\n",
    "    if len(S) < 3: return []\n",
    "    if len(set(S)) == 1: return[[0, len(S)-1]]\n",
    "    i, j, N = 0, 0, len(S)\n",
    "    res = []\n",
    "    while i < N:\n",
    "        while j < N and S[j]==S[i]:\n",
    "            j += 1\n",
    "        if (j-i > 2):\n",
    "            res.append((i, j-1))\n",
    "        i = j\n",
    "    return res"
   ]
  },
  {
   "cell_type": "code",
   "execution_count": 52,
   "metadata": {},
   "outputs": [
    {
     "data": {
      "text/plain": [
       "[(0, 2)]"
      ]
     },
     "execution_count": 52,
     "metadata": {},
     "output_type": "execute_result"
    }
   ],
   "source": [
    "S = \"aaab\"\n",
    "ans = largeGroupPositions(S)\n",
    "ans"
   ]
  },
  {
   "cell_type": "code",
   "execution_count": null,
   "metadata": {},
   "outputs": [],
   "source": []
  },
  {
   "cell_type": "code",
   "execution_count": null,
   "metadata": {},
   "outputs": [],
   "source": []
  }
 ],
 "metadata": {
  "kernelspec": {
   "display_name": "Python 3",
   "language": "python",
   "name": "python3"
  },
  "language_info": {
   "codemirror_mode": {
    "name": "ipython",
    "version": 3
   },
   "file_extension": ".py",
   "mimetype": "text/x-python",
   "name": "python",
   "nbconvert_exporter": "python",
   "pygments_lexer": "ipython3",
   "version": "3.6.5"
  }
 },
 "nbformat": 4,
 "nbformat_minor": 2
}
